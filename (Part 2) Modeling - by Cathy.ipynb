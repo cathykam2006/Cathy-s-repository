{
 "cells": [
  {
   "cell_type": "code",
   "execution_count": 1,
   "id": "f836a083",
   "metadata": {},
   "outputs": [
    {
     "name": "stderr",
     "output_type": "stream",
     "text": [
      "/Users/kamwingsze/opt/anaconda3/lib/python3.9/site-packages/xgboost/compat.py:36: FutureWarning: pandas.Int64Index is deprecated and will be removed from pandas in a future version. Use pandas.Index with the appropriate dtype instead.\n",
      "  from pandas import MultiIndex, Int64Index\n"
     ]
    }
   ],
   "source": [
    "import pandas as pd \n",
    "import numpy as np\n",
    "import seaborn as sns\n",
    "import matplotlib.pyplot as plt\n",
    "\n",
    "from sklearn.model_selection import train_test_split, cross_val_score\n",
    "from sklearn.linear_model import LinearRegression\n",
    "from sklearn.preprocessing import StandardScaler, PolynomialFeatures\n",
    "from xgboost import XGBRegressor \n",
    "from sklearn.tree import DecisionTreeRegressor\n",
    "from sklearn.impute import SimpleImputer\n",
    "from sklearn.preprocessing import MinMaxScaler, StandardScaler\n",
    "from sklearn.model_selection import GridSearchCV\n",
    "from sklearn.model_selection import train_test_split\n",
    "from sklearn.metrics import mean_squared_error, mean_absolute_error\n",
    "from sklearn.ensemble import BaggingRegressor, AdaBoostRegressor, RandomForestRegressor\n",
    "from sklearn.preprocessing import PolynomialFeatures\n",
    "from sklearn.feature_selection import RFE \n",
    "from sklearn.model_selection import train_test_split\n",
    "from sklearn.pipeline import make_pipeline\n",
    "from sklearn.preprocessing import StandardScaler\n",
    "from sklearn.linear_model import Lasso, LassoCV\n",
    "from sklearn.linear_model import Ridge, RidgeCV\n",
    "\n",
    "import warnings\n",
    "warnings.filterwarnings('ignore')"
   ]
  },
  {
   "cell_type": "code",
   "execution_count": 2,
   "id": "90f39099",
   "metadata": {},
   "outputs": [],
   "source": [
    "#Read in the cleaned csv\n",
    "cleaned_df = pd.read_csv('filtered_df.csv')"
   ]
  },
  {
   "cell_type": "code",
   "execution_count": 3,
   "id": "8b6bfd53",
   "metadata": {},
   "outputs": [
    {
     "data": {
      "text/html": [
       "<div>\n",
       "<style scoped>\n",
       "    .dataframe tbody tr th:only-of-type {\n",
       "        vertical-align: middle;\n",
       "    }\n",
       "\n",
       "    .dataframe tbody tr th {\n",
       "        vertical-align: top;\n",
       "    }\n",
       "\n",
       "    .dataframe thead th {\n",
       "        text-align: right;\n",
       "    }\n",
       "</style>\n",
       "<table border=\"1\" class=\"dataframe\">\n",
       "  <thead>\n",
       "    <tr style=\"text-align: right;\">\n",
       "      <th></th>\n",
       "      <th>Unnamed: 0</th>\n",
       "      <th>Date</th>\n",
       "      <th>Location</th>\n",
       "      <th>Demographic_Category</th>\n",
       "      <th>census</th>\n",
       "      <th>Not_Vaccinated</th>\n",
       "      <th>Administered_Dose1</th>\n",
       "      <th>Series_Complete_Yes</th>\n",
       "    </tr>\n",
       "  </thead>\n",
       "  <tbody>\n",
       "    <tr>\n",
       "      <th>0</th>\n",
       "      <td>882360</td>\n",
       "      <td>2021-12-30</td>\n",
       "      <td>1</td>\n",
       "      <td>1</td>\n",
       "      <td>52055.0</td>\n",
       "      <td>3116.0</td>\n",
       "      <td>48939.0</td>\n",
       "      <td>42161.0</td>\n",
       "    </tr>\n",
       "    <tr>\n",
       "      <th>1</th>\n",
       "      <td>882361</td>\n",
       "      <td>2021-12-30</td>\n",
       "      <td>2</td>\n",
       "      <td>1</td>\n",
       "      <td>481323.0</td>\n",
       "      <td>123150.0</td>\n",
       "      <td>358173.0</td>\n",
       "      <td>262023.0</td>\n",
       "    </tr>\n",
       "    <tr>\n",
       "      <th>2</th>\n",
       "      <td>882362</td>\n",
       "      <td>2021-12-30</td>\n",
       "      <td>35</td>\n",
       "      <td>26</td>\n",
       "      <td>135005.0</td>\n",
       "      <td>103698.0</td>\n",
       "      <td>31307.0</td>\n",
       "      <td>20149.0</td>\n",
       "    </tr>\n",
       "    <tr>\n",
       "      <th>3</th>\n",
       "      <td>882363</td>\n",
       "      <td>2021-12-30</td>\n",
       "      <td>36</td>\n",
       "      <td>26</td>\n",
       "      <td>133254.0</td>\n",
       "      <td>120857.0</td>\n",
       "      <td>12397.0</td>\n",
       "      <td>6750.0</td>\n",
       "    </tr>\n",
       "    <tr>\n",
       "      <th>4</th>\n",
       "      <td>882364</td>\n",
       "      <td>2021-12-30</td>\n",
       "      <td>37</td>\n",
       "      <td>28</td>\n",
       "      <td>526217.0</td>\n",
       "      <td>105711.0</td>\n",
       "      <td>420506.0</td>\n",
       "      <td>358267.0</td>\n",
       "    </tr>\n",
       "    <tr>\n",
       "      <th>...</th>\n",
       "      <td>...</td>\n",
       "      <td>...</td>\n",
       "      <td>...</td>\n",
       "      <td>...</td>\n",
       "      <td>...</td>\n",
       "      <td>...</td>\n",
       "      <td>...</td>\n",
       "      <td>...</td>\n",
       "    </tr>\n",
       "    <tr>\n",
       "      <th>77395</th>\n",
       "      <td>959755</td>\n",
       "      <td>2021-12-01</td>\n",
       "      <td>45</td>\n",
       "      <td>11</td>\n",
       "      <td>10184.0</td>\n",
       "      <td>10184.0</td>\n",
       "      <td>0.0</td>\n",
       "      <td>0.0</td>\n",
       "    </tr>\n",
       "    <tr>\n",
       "      <th>77396</th>\n",
       "      <td>959756</td>\n",
       "      <td>2021-12-01</td>\n",
       "      <td>17</td>\n",
       "      <td>46</td>\n",
       "      <td>3005.0</td>\n",
       "      <td>795.0</td>\n",
       "      <td>2210.0</td>\n",
       "      <td>2075.0</td>\n",
       "    </tr>\n",
       "    <tr>\n",
       "      <th>77397</th>\n",
       "      <td>959757</td>\n",
       "      <td>2021-12-01</td>\n",
       "      <td>50</td>\n",
       "      <td>46</td>\n",
       "      <td>6524.0</td>\n",
       "      <td>1830.0</td>\n",
       "      <td>4694.0</td>\n",
       "      <td>4018.0</td>\n",
       "    </tr>\n",
       "    <tr>\n",
       "      <th>77398</th>\n",
       "      <td>959758</td>\n",
       "      <td>2021-12-01</td>\n",
       "      <td>14</td>\n",
       "      <td>9</td>\n",
       "      <td>40789796.0</td>\n",
       "      <td>8044258.0</td>\n",
       "      <td>32745538.0</td>\n",
       "      <td>29013930.0</td>\n",
       "    </tr>\n",
       "    <tr>\n",
       "      <th>77399</th>\n",
       "      <td>959759</td>\n",
       "      <td>2021-12-01</td>\n",
       "      <td>59</td>\n",
       "      <td>9</td>\n",
       "      <td>8051.0</td>\n",
       "      <td>3155.0</td>\n",
       "      <td>4896.0</td>\n",
       "      <td>4462.0</td>\n",
       "    </tr>\n",
       "  </tbody>\n",
       "</table>\n",
       "<p>77400 rows × 8 columns</p>\n",
       "</div>"
      ],
      "text/plain": [
       "       Unnamed: 0        Date  Location  Demographic_Category      census  \\\n",
       "0          882360  2021-12-30         1                     1     52055.0   \n",
       "1          882361  2021-12-30         2                     1    481323.0   \n",
       "2          882362  2021-12-30        35                    26    135005.0   \n",
       "3          882363  2021-12-30        36                    26    133254.0   \n",
       "4          882364  2021-12-30        37                    28    526217.0   \n",
       "...           ...         ...       ...                   ...         ...   \n",
       "77395      959755  2021-12-01        45                    11     10184.0   \n",
       "77396      959756  2021-12-01        17                    46      3005.0   \n",
       "77397      959757  2021-12-01        50                    46      6524.0   \n",
       "77398      959758  2021-12-01        14                     9  40789796.0   \n",
       "77399      959759  2021-12-01        59                     9      8051.0   \n",
       "\n",
       "       Not_Vaccinated  Administered_Dose1  Series_Complete_Yes  \n",
       "0              3116.0             48939.0              42161.0  \n",
       "1            123150.0            358173.0             262023.0  \n",
       "2            103698.0             31307.0              20149.0  \n",
       "3            120857.0             12397.0               6750.0  \n",
       "4            105711.0            420506.0             358267.0  \n",
       "...               ...                 ...                  ...  \n",
       "77395         10184.0                 0.0                  0.0  \n",
       "77396           795.0              2210.0               2075.0  \n",
       "77397          1830.0              4694.0               4018.0  \n",
       "77398       8044258.0          32745538.0           29013930.0  \n",
       "77399          3155.0              4896.0               4462.0  \n",
       "\n",
       "[77400 rows x 8 columns]"
      ]
     },
     "execution_count": 3,
     "metadata": {},
     "output_type": "execute_result"
    }
   ],
   "source": [
    "#Inspect the columns and rows\n",
    "cleaned_df"
   ]
  },
  {
   "cell_type": "code",
   "execution_count": 4,
   "id": "e6b78d49",
   "metadata": {},
   "outputs": [],
   "source": [
    "# Drop unneccessary column\n",
    "cleaned_df.drop(['Unnamed: 0'], axis = 1, inplace = True)"
   ]
  },
  {
   "cell_type": "code",
   "execution_count": 5,
   "id": "f5e2bae8",
   "metadata": {},
   "outputs": [
    {
     "data": {
      "text/plain": [
       "Index(['Date', 'Location', 'Demographic_Category', 'census', 'Not_Vaccinated',\n",
       "       'Administered_Dose1', 'Series_Complete_Yes'],\n",
       "      dtype='object')"
      ]
     },
     "execution_count": 5,
     "metadata": {},
     "output_type": "execute_result"
    }
   ],
   "source": [
    "#Re-inspect the columns once again\n",
    "cleaned_df.columns"
   ]
  },
  {
   "cell_type": "code",
   "execution_count": 6,
   "id": "688a7011",
   "metadata": {},
   "outputs": [
    {
     "data": {
      "text/plain": [
       "Date                     object\n",
       "Location                  int64\n",
       "Demographic_Category      int64\n",
       "census                  float64\n",
       "Not_Vaccinated          float64\n",
       "Administered_Dose1      float64\n",
       "Series_Complete_Yes     float64\n",
       "dtype: object"
      ]
     },
     "execution_count": 6,
     "metadata": {},
     "output_type": "execute_result"
    }
   ],
   "source": [
    "#Check the data types of each column\n",
    "cleaned_df.dtypes"
   ]
  },
  {
   "cell_type": "code",
   "execution_count": 7,
   "id": "c31c3f1b",
   "metadata": {},
   "outputs": [],
   "source": [
    "# Transforming the Date column from object to float\n",
    "cleaned_df['Date'] = pd.to_numeric(cleaned_df['Date'],errors='coerce')"
   ]
  },
  {
   "cell_type": "code",
   "execution_count": 8,
   "id": "70946c26",
   "metadata": {},
   "outputs": [
    {
     "data": {
      "text/plain": [
       "Date                    77400\n",
       "Location                    0\n",
       "Demographic_Category        0\n",
       "census                   3600\n",
       "Not_Vaccinated           3600\n",
       "Administered_Dose1          0\n",
       "Series_Complete_Yes         0\n",
       "dtype: int64"
      ]
     },
     "execution_count": 8,
     "metadata": {},
     "output_type": "execute_result"
    }
   ],
   "source": [
    "# Check if there are any missing data\n",
    "cleaned_df.isna().sum()"
   ]
  },
  {
   "cell_type": "code",
   "execution_count": 10,
   "id": "8b85d578",
   "metadata": {},
   "outputs": [
    {
     "data": {
      "text/plain": [
       "Date                    float64\n",
       "Location                  int64\n",
       "Demographic_Category      int64\n",
       "census                  float64\n",
       "Not_Vaccinated          float64\n",
       "Administered_Dose1      float64\n",
       "Series_Complete_Yes     float64\n",
       "dtype: object"
      ]
     },
     "execution_count": 10,
     "metadata": {},
     "output_type": "execute_result"
    }
   ],
   "source": [
    "#Check the data types again\n",
    "cleaned_df.dtypes"
   ]
  },
  {
   "cell_type": "code",
   "execution_count": 11,
   "id": "8f55251a",
   "metadata": {},
   "outputs": [
    {
     "data": {
      "text/plain": [
       "(77400, 7)"
      ]
     },
     "execution_count": 11,
     "metadata": {},
     "output_type": "execute_result"
    }
   ],
   "source": [
    "#Check the shape again\n",
    "cleaned_df.shape"
   ]
  },
  {
   "cell_type": "markdown",
   "id": "2c040dc5",
   "metadata": {},
   "source": [
    "# Modeling \n",
    "### Using the pipeline that encompasses standardscaler, polynomialfeatures, RFE and Ridge regression"
   ]
  },
  {
   "cell_type": "code",
   "execution_count": 66,
   "id": "36456562",
   "metadata": {},
   "outputs": [],
   "source": [
    "# Selecting the features to be put into the model\n",
    "features = cleaned_df[['Date', 'census', 'Not_Vaccinated',\n",
    "                       'Administered_Dose1', 'Series_Complete_Yes', 'Location', 'Demographic_Category']]\n",
    "\n",
    "#Set our X (features to be considered) and y (The target column that we want to predict)\n",
    "X = features\n",
    "y = cleaned_df['Series_Complete_Yes']"
   ]
  },
  {
   "cell_type": "code",
   "execution_count": 67,
   "id": "fa3a97ed",
   "metadata": {},
   "outputs": [],
   "source": [
    "# Set up the pipeline\n",
    "pipe = make_pipeline(StandardScaler(),PolynomialFeatures(), RFE(Ridge()), Ridge(max_iter=10_000))"
   ]
  },
  {
   "cell_type": "code",
   "execution_count": 68,
   "id": "45058986",
   "metadata": {},
   "outputs": [],
   "source": [
    "#Train, test split\n",
    "X_train, X_test, y_train, y_test  = train_test_split(X, y, test_size=0.33, random_state=42)"
   ]
  },
  {
   "cell_type": "code",
   "execution_count": 100,
   "id": "ce742e4e",
   "metadata": {},
   "outputs": [
    {
     "data": {
      "text/plain": [
       "Date                    77400\n",
       "census                   3600\n",
       "Not_Vaccinated           3600\n",
       "Administered_Dose1          0\n",
       "Series_Complete_Yes         0\n",
       "Location                    0\n",
       "Demographic_Category        0\n",
       "dtype: int64"
      ]
     },
     "execution_count": 100,
     "metadata": {},
     "output_type": "execute_result"
    }
   ],
   "source": [
    "#Double check to make sure if there are any missing values\n",
    "X.isna().sum()"
   ]
  },
  {
   "cell_type": "code",
   "execution_count": 69,
   "id": "9b4da4c7",
   "metadata": {},
   "outputs": [],
   "source": [
    "#Fill in the missing values in the training set\n",
    "my_imputer = SimpleImputer(missing_values = np.nan, strategy ='constant', fill_value=0)\n",
    " \n",
    "# Fitting the data to the imputer object\n",
    "imputed_X = my_imputer.fit_transform(X_train)\n",
    "imputed_X_test = my_imputer.transform(X_test)"
   ]
  },
  {
   "cell_type": "code",
   "execution_count": 71,
   "id": "c62c6d9c",
   "metadata": {},
   "outputs": [
    {
     "data": {
      "text/plain": [
       "0"
      ]
     },
     "execution_count": 71,
     "metadata": {},
     "output_type": "execute_result"
    }
   ],
   "source": [
    "#Double check to make sure if there are any missing values\n",
    "y.isna().sum()"
   ]
  },
  {
   "cell_type": "code",
   "execution_count": 101,
   "id": "0c1a6206",
   "metadata": {},
   "outputs": [
    {
     "data": {
      "text/plain": [
       "(51858, 7)"
      ]
     },
     "execution_count": 101,
     "metadata": {},
     "output_type": "execute_result"
    }
   ],
   "source": [
    "#Check the train.shape one more time\n",
    "imputed_X.shape"
   ]
  },
  {
   "cell_type": "code",
   "execution_count": 102,
   "id": "ff1f4ae8",
   "metadata": {},
   "outputs": [
    {
     "data": {
      "text/plain": [
       "(25542, 7)"
      ]
     },
     "execution_count": 102,
     "metadata": {},
     "output_type": "execute_result"
    }
   ],
   "source": [
    "#Check the test.shape one more time\n",
    "imputed_X_test.shape"
   ]
  },
  {
   "cell_type": "code",
   "execution_count": 74,
   "id": "ebfc8159",
   "metadata": {},
   "outputs": [
    {
     "data": {
      "text/plain": [
       "Pipeline(steps=[('standardscaler', StandardScaler()),\n",
       "                ('polynomialfeatures', PolynomialFeatures()),\n",
       "                ('rfe', RFE(estimator=Ridge())),\n",
       "                ('ridge', Ridge(max_iter=10000))])"
      ]
     },
     "execution_count": 74,
     "metadata": {},
     "output_type": "execute_result"
    }
   ],
   "source": [
    "#Fit the pipe into our data\n",
    "pipe.fit(imputed_X, y_train)"
   ]
  },
  {
   "cell_type": "markdown",
   "id": "93d03ea9",
   "metadata": {},
   "source": [
    "# Model Evalaution / Metrics"
   ]
  },
  {
   "cell_type": "code",
   "execution_count": 75,
   "id": "2f1761d5",
   "metadata": {},
   "outputs": [
    {
     "data": {
      "text/plain": [
       "0.9999977709519897"
      ]
     },
     "execution_count": 75,
     "metadata": {},
     "output_type": "execute_result"
    }
   ],
   "source": [
    "# Training score\n",
    "pipe.score(imputed_X, y_train)"
   ]
  },
  {
   "cell_type": "code",
   "execution_count": 76,
   "id": "ddc5b2fb",
   "metadata": {},
   "outputs": [
    {
     "data": {
      "text/plain": [
       "0.9999978038299262"
      ]
     },
     "execution_count": 76,
     "metadata": {},
     "output_type": "execute_result"
    }
   ],
   "source": [
    "#Testing score\n",
    "pipe.score(imputed_X_test, y_test)"
   ]
  },
  {
   "cell_type": "markdown",
   "id": "bbd91e45",
   "metadata": {},
   "source": [
    "# Prediction of y"
   ]
  },
  {
   "cell_type": "code",
   "execution_count": 107,
   "id": "414a9abc",
   "metadata": {},
   "outputs": [],
   "source": [
    "y_pred = pipe.predict(imputed_X)"
   ]
  },
  {
   "cell_type": "code",
   "execution_count": 112,
   "id": "b6008c48",
   "metadata": {},
   "outputs": [
    {
     "data": {
      "text/plain": [
       "array([ 1.97794720e+05,  7.35421338e+04,  2.11787356e+05,  2.36035728e+05,\n",
       "       -1.14443997e+03,  3.05364544e+06,  9.92227543e+02,  3.48683677e+05,\n",
       "        4.08210282e+04,  1.78823647e+05])"
      ]
     },
     "execution_count": 112,
     "metadata": {},
     "output_type": "execute_result"
    }
   ],
   "source": [
    "y_pred[:10]"
   ]
  },
  {
   "cell_type": "markdown",
   "id": "06ca75b3",
   "metadata": {},
   "source": [
    "# Dummy Regressor -> Find out the Baseline Mean Square Error"
   ]
  },
  {
   "cell_type": "code",
   "execution_count": 113,
   "id": "eba97bfa",
   "metadata": {},
   "outputs": [],
   "source": [
    "from sklearn.dummy import DummyRegressor"
   ]
  },
  {
   "cell_type": "code",
   "execution_count": 120,
   "id": "1a6608e6",
   "metadata": {},
   "outputs": [],
   "source": [
    "lr = LinearRegression().fit(imputed_X, y_train)"
   ]
  },
  {
   "cell_type": "code",
   "execution_count": 128,
   "id": "b1e43ec3",
   "metadata": {},
   "outputs": [],
   "source": [
    "lr_dummy_mean = DummyRegressor(strategy = 'mean').fit(imputed_X, y_train)\n",
    "  \n",
    "lr_dummy_median = DummyRegressor(strategy = 'median').fit(imputed_X, y_train)"
   ]
  },
  {
   "cell_type": "code",
   "execution_count": 129,
   "id": "879c25ee",
   "metadata": {},
   "outputs": [],
   "source": [
    "y_predict = lr.predict(imputed_X_test)"
   ]
  },
  {
   "cell_type": "code",
   "execution_count": 130,
   "id": "d5e81fc1",
   "metadata": {},
   "outputs": [],
   "source": [
    "y_predict_dummy_mean = lr_dummy_mean.predict(imputed_X_test)\n",
    "y_predict_dummy_median = lr_dummy_median.predict(imputed_X_test)"
   ]
  },
  {
   "cell_type": "code",
   "execution_count": 135,
   "id": "70c63d3c",
   "metadata": {},
   "outputs": [
    {
     "name": "stdout",
     "output_type": "stream",
     "text": [
      "Linear model, coefficients:  [ 0.00000000e+00 -4.52479035e-15  5.01287584e-15  1.82127301e-15\n",
      "  1.00000000e+00  1.66017280e-11  2.39854103e-11]\n",
      "Mean squared error (dummy): 4033958.63\n"
     ]
    }
   ],
   "source": [
    "print('Linear model, coefficients: ', lr.coef_)\n",
    "print(\"Mean squared error (dummy): {:.2f}\".format(mean_squared_error(y_test, y_predict_dummy_mean, squared=False)))"
   ]
  },
  {
   "cell_type": "markdown",
   "id": "1dba6bcf",
   "metadata": {},
   "source": [
    "# Root Mean Squared Error of the Pipeline"
   ]
  },
  {
   "cell_type": "code",
   "execution_count": 98,
   "id": "e328eac6",
   "metadata": {},
   "outputs": [
    {
     "name": "stdout",
     "output_type": "stream",
     "text": [
      "train: 6229.383786930952\n",
      "test: 5978.048995295079\n"
     ]
    }
   ],
   "source": [
    "# Training RMSE\n",
    "print('train:', mean_squared_error(y_train, pipe.predict(imputed_X), squared=False))\n",
    "\n",
    "# Testing RMSE\n",
    "print('test:', mean_squared_error(y_test, pipe.predict(imputed_X_test), squared=False))"
   ]
  },
  {
   "cell_type": "markdown",
   "id": "184772a2",
   "metadata": {},
   "source": [
    "# Cross val score"
   ]
  },
  {
   "cell_type": "code",
   "execution_count": 97,
   "id": "4a6696c0",
   "metadata": {},
   "outputs": [
    {
     "data": {
      "text/plain": [
       "array([0.99999666, 0.99999772, 0.99999636, 0.99999651, 0.9999976 ])"
      ]
     },
     "execution_count": 97,
     "metadata": {},
     "output_type": "execute_result"
    }
   ],
   "source": [
    "scores = cross_val_score(estimator=pipe, X=imputed_X, y=y_train, cv=5)\n",
    "scores"
   ]
  },
  {
   "cell_type": "code",
   "execution_count": 96,
   "id": "7cc66a27",
   "metadata": {},
   "outputs": [
    {
     "data": {
      "text/plain": [
       "array([0.99999666, 0.99999772, 0.99999636, 0.99999651, 0.9999976 ])"
      ]
     },
     "execution_count": 96,
     "metadata": {},
     "output_type": "execute_result"
    }
   ],
   "source": [
    "# Generting cross validated predictions \n",
    "scores[:5]"
   ]
  },
  {
   "cell_type": "code",
   "execution_count": 93,
   "id": "bd72815e",
   "metadata": {},
   "outputs": [
    {
     "data": {
      "text/plain": [
       "5.740074787725552e-07"
      ]
     },
     "execution_count": 93,
     "metadata": {},
     "output_type": "execute_result"
    }
   ],
   "source": [
    "# get the standard deviation from cross validated testing score\n",
    "scores.std()"
   ]
  },
  {
   "cell_type": "code",
   "execution_count": 94,
   "id": "9ecee77e",
   "metadata": {},
   "outputs": [
    {
     "data": {
      "text/plain": [
       "0.9999970670270132"
      ]
     },
     "execution_count": 94,
     "metadata": {},
     "output_type": "execute_result"
    }
   ],
   "source": [
    "# Running cross validation on the training subset\n",
    "# cv changes the number of folds\n",
    "cross_val_score(pipe, imputed_X, y_train, cv=7).mean()"
   ]
  },
  {
   "cell_type": "markdown",
   "id": "acb953bc",
   "metadata": {},
   "source": [
    "# R2 score"
   ]
  },
  {
   "cell_type": "code",
   "execution_count": 140,
   "id": "53a86704",
   "metadata": {},
   "outputs": [
    {
     "name": "stdout",
     "output_type": "stream",
     "text": [
      "r2 score of the ridge regression:  0.9999977709519897\n",
      "mean squared error on the training:  6229.383786930952\n"
     ]
    }
   ],
   "source": [
    "from sklearn import metrics\n",
    "\n",
    "print('r2 score of the ridge regression: ',metrics.r2_score(y_train, y_pred))\n",
    "\n",
    "print('mean squared error on the training: ', metrics.mean_squared_error(y_train, y_pred,squared=False))"
   ]
  },
  {
   "cell_type": "code",
   "execution_count": null,
   "id": "914337b9",
   "metadata": {},
   "outputs": [],
   "source": []
  },
  {
   "cell_type": "markdown",
   "id": "89907611",
   "metadata": {},
   "source": [
    "# Baseline for y"
   ]
  },
  {
   "cell_type": "code",
   "execution_count": 81,
   "id": "01bea2f1",
   "metadata": {},
   "outputs": [
    {
     "data": {
      "text/plain": [
       "666125.5059302326"
      ]
     },
     "execution_count": 81,
     "metadata": {},
     "output_type": "execute_result"
    }
   ],
   "source": [
    "# Baseline\n",
    "y.mean()"
   ]
  },
  {
   "cell_type": "code",
   "execution_count": null,
   "id": "891c025d",
   "metadata": {},
   "outputs": [],
   "source": []
  }
 ],
 "metadata": {
  "kernelspec": {
   "display_name": "Python 3 (ipykernel)",
   "language": "python",
   "name": "python3"
  },
  "language_info": {
   "codemirror_mode": {
    "name": "ipython",
    "version": 3
   },
   "file_extension": ".py",
   "mimetype": "text/x-python",
   "name": "python",
   "nbconvert_exporter": "python",
   "pygments_lexer": "ipython3",
   "version": "3.9.15"
  }
 },
 "nbformat": 4,
 "nbformat_minor": 5
}
