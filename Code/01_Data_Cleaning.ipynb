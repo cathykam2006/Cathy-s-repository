{
 "cells": [
  {
   "cell_type": "markdown",
   "id": "ed4dea63-28f9-4793-9478-59e87cfa7388",
   "metadata": {},
   "source": [
    "# Table of Contents\n",
    "- First Imports\n",
    "- Converting Date to Datetime\n",
    "- Location Encoded\n",
    "- Demographic_category encoded\n",
    "- Replacing NaN values with 0\n",
    "- New Columns\n",
    "- Data Frame 2\n",
    "- Example"
   ]
  },
  {
   "cell_type": "markdown",
   "id": "b47e011f-d95e-4201-bb23-d4a471ca05d5",
   "metadata": {},
   "source": [
    "# First Imports"
   ]
  },
  {
   "cell_type": "code",
   "execution_count": 1,
   "id": "6e88db7d-7213-479f-bbff-97a21cc12339",
   "metadata": {},
   "outputs": [],
   "source": [
    "import pandas as pd\n",
    "import seaborn as sns\n",
    "import numpy as np\n",
    "import datetime as dt"
   ]
  },
  {
   "cell_type": "code",
   "execution_count": 2,
   "id": "c7ad18bb-013a-4b66-9c5a-bc3f67ad5d86",
   "metadata": {},
   "outputs": [
    {
     "data": {
      "text/html": [
       "<div>\n",
       "<style scoped>\n",
       "    .dataframe tbody tr th:only-of-type {\n",
       "        vertical-align: middle;\n",
       "    }\n",
       "\n",
       "    .dataframe tbody tr th {\n",
       "        vertical-align: top;\n",
       "    }\n",
       "\n",
       "    .dataframe thead th {\n",
       "        text-align: right;\n",
       "    }\n",
       "</style>\n",
       "<table border=\"1\" class=\"dataframe\">\n",
       "  <thead>\n",
       "    <tr style=\"text-align: right;\">\n",
       "      <th></th>\n",
       "      <th>Date</th>\n",
       "      <th>Location</th>\n",
       "      <th>Demographic_Category</th>\n",
       "      <th>census</th>\n",
       "      <th>Administered_Dose1</th>\n",
       "      <th>Series_Complete_Yes</th>\n",
       "      <th>Booster_Doses</th>\n",
       "      <th>Second_Booster</th>\n",
       "      <th>Administered_Dose1_pct_agegroup</th>\n",
       "      <th>Series_Complete_Pop_pct_agegroup</th>\n",
       "      <th>Booster_Doses_Vax_pct_agegroup</th>\n",
       "      <th>Second_Booster_Vax_pct_agegroup</th>\n",
       "    </tr>\n",
       "  </thead>\n",
       "  <tbody>\n",
       "    <tr>\n",
       "      <th>0</th>\n",
       "      <td>12/07/2022 12:00:00 AM</td>\n",
       "      <td>SD</td>\n",
       "      <td>Female_Ages_25-39_yrs</td>\n",
       "      <td>82026.0</td>\n",
       "      <td>70565.0</td>\n",
       "      <td>54893.0</td>\n",
       "      <td>19864.0</td>\n",
       "      <td>NaN</td>\n",
       "      <td>86.0</td>\n",
       "      <td>66.9</td>\n",
       "      <td>36.2</td>\n",
       "      <td>NaN</td>\n",
       "    </tr>\n",
       "    <tr>\n",
       "      <th>1</th>\n",
       "      <td>12/07/2022 12:00:00 AM</td>\n",
       "      <td>WI</td>\n",
       "      <td>Female_Ages_25-39_yrs</td>\n",
       "      <td>545614.0</td>\n",
       "      <td>425661.0</td>\n",
       "      <td>380299.0</td>\n",
       "      <td>194014.0</td>\n",
       "      <td>NaN</td>\n",
       "      <td>78.0</td>\n",
       "      <td>69.7</td>\n",
       "      <td>51.0</td>\n",
       "      <td>NaN</td>\n",
       "    </tr>\n",
       "    <tr>\n",
       "      <th>2</th>\n",
       "      <td>12/07/2022 12:00:00 AM</td>\n",
       "      <td>IN</td>\n",
       "      <td>Sex_Female</td>\n",
       "      <td>3411859.0</td>\n",
       "      <td>2257339.0</td>\n",
       "      <td>2040656.0</td>\n",
       "      <td>1069660.0</td>\n",
       "      <td>296972.0</td>\n",
       "      <td>66.2</td>\n",
       "      <td>59.8</td>\n",
       "      <td>52.5</td>\n",
       "      <td>43.3</td>\n",
       "    </tr>\n",
       "    <tr>\n",
       "      <th>3</th>\n",
       "      <td>12/07/2022 12:00:00 AM</td>\n",
       "      <td>UT</td>\n",
       "      <td>Sex_Female</td>\n",
       "      <td>1591041.0</td>\n",
       "      <td>1208999.0</td>\n",
       "      <td>1081849.0</td>\n",
       "      <td>556474.0</td>\n",
       "      <td>135224.0</td>\n",
       "      <td>76.0</td>\n",
       "      <td>68.0</td>\n",
       "      <td>51.6</td>\n",
       "      <td>49.9</td>\n",
       "    </tr>\n",
       "    <tr>\n",
       "      <th>4</th>\n",
       "      <td>12/07/2022 12:00:00 AM</td>\n",
       "      <td>RI</td>\n",
       "      <td>Female_Ages_65+_yrs</td>\n",
       "      <td>105649.0</td>\n",
       "      <td>127869.0</td>\n",
       "      <td>109840.0</td>\n",
       "      <td>89614.0</td>\n",
       "      <td>55490.0</td>\n",
       "      <td>95.0</td>\n",
       "      <td>95.0</td>\n",
       "      <td>81.6</td>\n",
       "      <td>61.9</td>\n",
       "    </tr>\n",
       "  </tbody>\n",
       "</table>\n",
       "</div>"
      ],
      "text/plain": [
       "                     Date Location   Demographic_Category     census  \\\n",
       "0  12/07/2022 12:00:00 AM       SD  Female_Ages_25-39_yrs    82026.0   \n",
       "1  12/07/2022 12:00:00 AM       WI  Female_Ages_25-39_yrs   545614.0   \n",
       "2  12/07/2022 12:00:00 AM       IN             Sex_Female  3411859.0   \n",
       "3  12/07/2022 12:00:00 AM       UT             Sex_Female  1591041.0   \n",
       "4  12/07/2022 12:00:00 AM       RI    Female_Ages_65+_yrs   105649.0   \n",
       "\n",
       "   Administered_Dose1  Series_Complete_Yes  Booster_Doses  Second_Booster  \\\n",
       "0             70565.0              54893.0        19864.0             NaN   \n",
       "1            425661.0             380299.0       194014.0             NaN   \n",
       "2           2257339.0            2040656.0      1069660.0        296972.0   \n",
       "3           1208999.0            1081849.0       556474.0        135224.0   \n",
       "4            127869.0             109840.0        89614.0         55490.0   \n",
       "\n",
       "   Administered_Dose1_pct_agegroup  Series_Complete_Pop_pct_agegroup  \\\n",
       "0                             86.0                              66.9   \n",
       "1                             78.0                              69.7   \n",
       "2                             66.2                              59.8   \n",
       "3                             76.0                              68.0   \n",
       "4                             95.0                              95.0   \n",
       "\n",
       "   Booster_Doses_Vax_pct_agegroup  Second_Booster_Vax_pct_agegroup  \n",
       "0                            36.2                              NaN  \n",
       "1                            51.0                              NaN  \n",
       "2                            52.5                             43.3  \n",
       "3                            51.6                             49.9  \n",
       "4                            81.6                             61.9  "
      ]
     },
     "execution_count": 2,
     "metadata": {},
     "output_type": "execute_result"
    }
   ],
   "source": [
    "df =pd.read_csv('Data/COVID-19_Vaccination_Age_and_Sex_Trends_in_the_United_States__National_and_Jurisdictional.csv')\n",
    "df.head()"
   ]
  },
  {
   "cell_type": "markdown",
   "id": "20c52f19-f97d-4277-b1d5-520cf107842f",
   "metadata": {},
   "source": [
    "# Converting Date to DateTime "
   ]
  },
  {
   "cell_type": "code",
   "execution_count": 3,
   "id": "20e07a65-0a74-40bb-95a8-1e35e28fb572",
   "metadata": {},
   "outputs": [],
   "source": [
    "df['Date']= pd.to_datetime(df['Date'])"
   ]
  },
  {
   "cell_type": "code",
   "execution_count": 4,
   "id": "d3c94d34-9177-4742-a81f-42e619874e34",
   "metadata": {},
   "outputs": [],
   "source": [
    "filtered_df = df.query(\"Date >= '12/01/2021' \\\n",
    "                       and Date < '12/31/2021'\")"
   ]
  },
  {
   "cell_type": "code",
   "execution_count": 5,
   "id": "0b36cf43-6b85-46eb-951d-63d0bb29e534",
   "metadata": {},
   "outputs": [
    {
     "data": {
      "text/html": [
       "<div>\n",
       "<style scoped>\n",
       "    .dataframe tbody tr th:only-of-type {\n",
       "        vertical-align: middle;\n",
       "    }\n",
       "\n",
       "    .dataframe tbody tr th {\n",
       "        vertical-align: top;\n",
       "    }\n",
       "\n",
       "    .dataframe thead th {\n",
       "        text-align: right;\n",
       "    }\n",
       "</style>\n",
       "<table border=\"1\" class=\"dataframe\">\n",
       "  <thead>\n",
       "    <tr style=\"text-align: right;\">\n",
       "      <th></th>\n",
       "      <th>Date</th>\n",
       "      <th>Location</th>\n",
       "      <th>Demographic_Category</th>\n",
       "      <th>census</th>\n",
       "      <th>Administered_Dose1</th>\n",
       "      <th>Series_Complete_Yes</th>\n",
       "      <th>Booster_Doses</th>\n",
       "      <th>Second_Booster</th>\n",
       "      <th>Administered_Dose1_pct_agegroup</th>\n",
       "      <th>Series_Complete_Pop_pct_agegroup</th>\n",
       "      <th>Booster_Doses_Vax_pct_agegroup</th>\n",
       "      <th>Second_Booster_Vax_pct_agegroup</th>\n",
       "    </tr>\n",
       "  </thead>\n",
       "  <tbody>\n",
       "    <tr>\n",
       "      <th>882360</th>\n",
       "      <td>2021-12-30</td>\n",
       "      <td>ME</td>\n",
       "      <td>Female_Ages_18-24_yrs</td>\n",
       "      <td>52055.0</td>\n",
       "      <td>48939.0</td>\n",
       "      <td>42161.0</td>\n",
       "      <td>10687.0</td>\n",
       "      <td>NaN</td>\n",
       "      <td>94.0</td>\n",
       "      <td>81.0</td>\n",
       "      <td>25.3</td>\n",
       "      <td>NaN</td>\n",
       "    </tr>\n",
       "    <tr>\n",
       "      <th>882361</th>\n",
       "      <td>2021-12-30</td>\n",
       "      <td>NC</td>\n",
       "      <td>Female_Ages_18-24_yrs</td>\n",
       "      <td>481323.0</td>\n",
       "      <td>358173.0</td>\n",
       "      <td>262023.0</td>\n",
       "      <td>28112.0</td>\n",
       "      <td>NaN</td>\n",
       "      <td>74.4</td>\n",
       "      <td>54.4</td>\n",
       "      <td>10.7</td>\n",
       "      <td>NaN</td>\n",
       "    </tr>\n",
       "    <tr>\n",
       "      <th>882362</th>\n",
       "      <td>2021-12-30</td>\n",
       "      <td>KS</td>\n",
       "      <td>Female_Ages_5-11_yrs</td>\n",
       "      <td>135005.0</td>\n",
       "      <td>31307.0</td>\n",
       "      <td>20149.0</td>\n",
       "      <td>NaN</td>\n",
       "      <td>NaN</td>\n",
       "      <td>23.2</td>\n",
       "      <td>14.9</td>\n",
       "      <td>NaN</td>\n",
       "      <td>NaN</td>\n",
       "    </tr>\n",
       "    <tr>\n",
       "      <th>882363</th>\n",
       "      <td>2021-12-30</td>\n",
       "      <td>MS</td>\n",
       "      <td>Female_Ages_5-11_yrs</td>\n",
       "      <td>133254.0</td>\n",
       "      <td>12397.0</td>\n",
       "      <td>6750.0</td>\n",
       "      <td>NaN</td>\n",
       "      <td>NaN</td>\n",
       "      <td>9.3</td>\n",
       "      <td>5.1</td>\n",
       "      <td>NaN</td>\n",
       "      <td>NaN</td>\n",
       "    </tr>\n",
       "    <tr>\n",
       "      <th>882364</th>\n",
       "      <td>2021-12-30</td>\n",
       "      <td>CO</td>\n",
       "      <td>Ages_18-24_yrs</td>\n",
       "      <td>526217.0</td>\n",
       "      <td>420506.0</td>\n",
       "      <td>358267.0</td>\n",
       "      <td>74665.0</td>\n",
       "      <td>NaN</td>\n",
       "      <td>79.9</td>\n",
       "      <td>68.1</td>\n",
       "      <td>20.8</td>\n",
       "      <td>NaN</td>\n",
       "    </tr>\n",
       "    <tr>\n",
       "      <th>...</th>\n",
       "      <td>...</td>\n",
       "      <td>...</td>\n",
       "      <td>...</td>\n",
       "      <td>...</td>\n",
       "      <td>...</td>\n",
       "      <td>...</td>\n",
       "      <td>...</td>\n",
       "      <td>...</td>\n",
       "      <td>...</td>\n",
       "      <td>...</td>\n",
       "      <td>...</td>\n",
       "      <td>...</td>\n",
       "    </tr>\n",
       "    <tr>\n",
       "      <th>959755</th>\n",
       "      <td>2021-12-01</td>\n",
       "      <td>ND</td>\n",
       "      <td>Female_Ages_&lt;2yrs</td>\n",
       "      <td>10184.0</td>\n",
       "      <td>NaN</td>\n",
       "      <td>NaN</td>\n",
       "      <td>NaN</td>\n",
       "      <td>NaN</td>\n",
       "      <td>NaN</td>\n",
       "      <td>NaN</td>\n",
       "      <td>NaN</td>\n",
       "      <td>NaN</td>\n",
       "    </tr>\n",
       "    <tr>\n",
       "      <th>959756</th>\n",
       "      <td>2021-12-01</td>\n",
       "      <td>MP</td>\n",
       "      <td>Male_Ages_18-24_yrs</td>\n",
       "      <td>3005.0</td>\n",
       "      <td>2210.0</td>\n",
       "      <td>2075.0</td>\n",
       "      <td>144.0</td>\n",
       "      <td>NaN</td>\n",
       "      <td>73.5</td>\n",
       "      <td>69.1</td>\n",
       "      <td>6.9</td>\n",
       "      <td>NaN</td>\n",
       "    </tr>\n",
       "    <tr>\n",
       "      <th>959757</th>\n",
       "      <td>2021-12-01</td>\n",
       "      <td>FM</td>\n",
       "      <td>Male_Ages_18-24_yrs</td>\n",
       "      <td>6524.0</td>\n",
       "      <td>4694.0</td>\n",
       "      <td>4018.0</td>\n",
       "      <td>130.0</td>\n",
       "      <td>NaN</td>\n",
       "      <td>71.9</td>\n",
       "      <td>61.6</td>\n",
       "      <td>3.2</td>\n",
       "      <td>NaN</td>\n",
       "    </tr>\n",
       "    <tr>\n",
       "      <th>959758</th>\n",
       "      <td>2021-12-01</td>\n",
       "      <td>US</td>\n",
       "      <td>Ages_40-49_yrs</td>\n",
       "      <td>40789796.0</td>\n",
       "      <td>32745538.0</td>\n",
       "      <td>29013930.0</td>\n",
       "      <td>5396826.0</td>\n",
       "      <td>NaN</td>\n",
       "      <td>80.3</td>\n",
       "      <td>71.1</td>\n",
       "      <td>18.6</td>\n",
       "      <td>NaN</td>\n",
       "    </tr>\n",
       "    <tr>\n",
       "      <th>959759</th>\n",
       "      <td>2021-12-01</td>\n",
       "      <td>MH</td>\n",
       "      <td>Ages_40-49_yrs</td>\n",
       "      <td>8051.0</td>\n",
       "      <td>4896.0</td>\n",
       "      <td>4462.0</td>\n",
       "      <td>354.0</td>\n",
       "      <td>NaN</td>\n",
       "      <td>60.8</td>\n",
       "      <td>55.4</td>\n",
       "      <td>7.9</td>\n",
       "      <td>NaN</td>\n",
       "    </tr>\n",
       "  </tbody>\n",
       "</table>\n",
       "<p>77400 rows × 12 columns</p>\n",
       "</div>"
      ],
      "text/plain": [
       "             Date Location   Demographic_Category      census  \\\n",
       "882360 2021-12-30       ME  Female_Ages_18-24_yrs     52055.0   \n",
       "882361 2021-12-30       NC  Female_Ages_18-24_yrs    481323.0   \n",
       "882362 2021-12-30       KS   Female_Ages_5-11_yrs    135005.0   \n",
       "882363 2021-12-30       MS   Female_Ages_5-11_yrs    133254.0   \n",
       "882364 2021-12-30       CO         Ages_18-24_yrs    526217.0   \n",
       "...           ...      ...                    ...         ...   \n",
       "959755 2021-12-01       ND      Female_Ages_<2yrs     10184.0   \n",
       "959756 2021-12-01       MP    Male_Ages_18-24_yrs      3005.0   \n",
       "959757 2021-12-01       FM    Male_Ages_18-24_yrs      6524.0   \n",
       "959758 2021-12-01       US         Ages_40-49_yrs  40789796.0   \n",
       "959759 2021-12-01       MH         Ages_40-49_yrs      8051.0   \n",
       "\n",
       "        Administered_Dose1  Series_Complete_Yes  Booster_Doses  \\\n",
       "882360             48939.0              42161.0        10687.0   \n",
       "882361            358173.0             262023.0        28112.0   \n",
       "882362             31307.0              20149.0            NaN   \n",
       "882363             12397.0               6750.0            NaN   \n",
       "882364            420506.0             358267.0        74665.0   \n",
       "...                    ...                  ...            ...   \n",
       "959755                 NaN                  NaN            NaN   \n",
       "959756              2210.0               2075.0          144.0   \n",
       "959757              4694.0               4018.0          130.0   \n",
       "959758          32745538.0           29013930.0      5396826.0   \n",
       "959759              4896.0               4462.0          354.0   \n",
       "\n",
       "        Second_Booster  Administered_Dose1_pct_agegroup  \\\n",
       "882360             NaN                             94.0   \n",
       "882361             NaN                             74.4   \n",
       "882362             NaN                             23.2   \n",
       "882363             NaN                              9.3   \n",
       "882364             NaN                             79.9   \n",
       "...                ...                              ...   \n",
       "959755             NaN                              NaN   \n",
       "959756             NaN                             73.5   \n",
       "959757             NaN                             71.9   \n",
       "959758             NaN                             80.3   \n",
       "959759             NaN                             60.8   \n",
       "\n",
       "        Series_Complete_Pop_pct_agegroup  Booster_Doses_Vax_pct_agegroup  \\\n",
       "882360                              81.0                            25.3   \n",
       "882361                              54.4                            10.7   \n",
       "882362                              14.9                             NaN   \n",
       "882363                               5.1                             NaN   \n",
       "882364                              68.1                            20.8   \n",
       "...                                  ...                             ...   \n",
       "959755                               NaN                             NaN   \n",
       "959756                              69.1                             6.9   \n",
       "959757                              61.6                             3.2   \n",
       "959758                              71.1                            18.6   \n",
       "959759                              55.4                             7.9   \n",
       "\n",
       "        Second_Booster_Vax_pct_agegroup  \n",
       "882360                              NaN  \n",
       "882361                              NaN  \n",
       "882362                              NaN  \n",
       "882363                              NaN  \n",
       "882364                              NaN  \n",
       "...                                 ...  \n",
       "959755                              NaN  \n",
       "959756                              NaN  \n",
       "959757                              NaN  \n",
       "959758                              NaN  \n",
       "959759                              NaN  \n",
       "\n",
       "[77400 rows x 12 columns]"
      ]
     },
     "execution_count": 5,
     "metadata": {},
     "output_type": "execute_result"
    }
   ],
   "source": [
    "filtered_df"
   ]
  },
  {
   "cell_type": "code",
   "execution_count": 6,
   "id": "eab6f54c-2a13-4f16-97ea-d01b167f5962",
   "metadata": {},
   "outputs": [
    {
     "name": "stdout",
     "output_type": "stream",
     "text": [
      "<class 'pandas.core.frame.DataFrame'>\n",
      "Int64Index: 77400 entries, 882360 to 959759\n",
      "Data columns (total 12 columns):\n",
      " #   Column                            Non-Null Count  Dtype         \n",
      "---  ------                            --------------  -----         \n",
      " 0   Date                              77400 non-null  datetime64[ns]\n",
      " 1   Location                          77400 non-null  object        \n",
      " 2   Demographic_Category              77400 non-null  object        \n",
      " 3   census                            73800 non-null  float64       \n",
      " 4   Administered_Dose1                60530 non-null  float64       \n",
      " 5   Series_Complete_Yes               59877 non-null  float64       \n",
      " 6   Booster_Doses                     52031 non-null  float64       \n",
      " 7   Second_Booster                    22486 non-null  float64       \n",
      " 8   Administered_Dose1_pct_agegroup   57600 non-null  float64       \n",
      " 9   Series_Complete_Pop_pct_agegroup  57417 non-null  float64       \n",
      " 10  Booster_Doses_Vax_pct_agegroup    52031 non-null  float64       \n",
      " 11  Second_Booster_Vax_pct_agegroup   22486 non-null  float64       \n",
      "dtypes: datetime64[ns](1), float64(9), object(2)\n",
      "memory usage: 7.7+ MB\n"
     ]
    }
   ],
   "source": [
    "filtered_df.info()"
   ]
  },
  {
   "cell_type": "markdown",
   "id": "1eed1daa-91d1-42d6-8724-d0a134544149",
   "metadata": {},
   "source": [
    "# Location Encoded"
   ]
  },
  {
   "cell_type": "code",
   "execution_count": 7,
   "id": "9fa3cc91-0fde-445f-bfd2-9ebd9cb2c7a8",
   "metadata": {},
   "outputs": [
    {
     "data": {
      "text/plain": [
       "ME    1290\n",
       "NC    1290\n",
       "NY    1290\n",
       "Name: Location, dtype: int64"
      ]
     },
     "execution_count": 7,
     "metadata": {},
     "output_type": "execute_result"
    }
   ],
   "source": [
    "filtered_df['Location'].value_counts().head(3)"
   ]
  },
  {
   "cell_type": "code",
   "execution_count": 8,
   "id": "ec88c835-4a26-47f7-af52-67257c877dcb",
   "metadata": {},
   "outputs": [
    {
     "name": "stderr",
     "output_type": "stream",
     "text": [
      "C:\\Users\\Sparrow\\AppData\\Local\\Temp\\ipykernel_7228\\3318025425.py:1: SettingWithCopyWarning: \n",
      "A value is trying to be set on a copy of a slice from a DataFrame.\n",
      "Try using .loc[row_indexer,col_indexer] = value instead\n",
      "\n",
      "See the caveats in the documentation: https://pandas.pydata.org/pandas-docs/stable/user_guide/indexing.html#returning-a-view-versus-a-copy\n",
      "  filtered_df['Location'] = filtered_df['Location'].replace({'ME':1,'NC':2,'NY':3,'NM':4,\n"
     ]
    }
   ],
   "source": [
    "filtered_df['Location'] = filtered_df['Location'].replace({'ME':1,'NC':2,'NY':3,'NM':4,\n",
    "                                                           'HI':5,'OK':6,'WI':7,'CA':8,\n",
    "                                                           'RI':9,'ID':10,'VT':11,'CT':12,\n",
    "                                                           'TN':13,'US':14,'IA':15,'FL':16,\n",
    "                                                           'MP':17,'WV':18,'MN':19,'PW':20,\n",
    "                                                           'NV':21,'TX':22,'WY':23,'LA':24,\n",
    "                                                           'LA':25,'NH':26,'IL':27,'OH':28,\n",
    "                                                           'VA':29,'DE':30,'DC':31,'OR':32,\n",
    "                                                           'KY':33,'AS':34,'KS':35,'MS':36,\n",
    "                                                           'CO':37,'NE':38,'PA':39,'GU':40,\n",
    "                                                           'VI':41,'AK':42,'MD':43,'MI':44,\n",
    "                                                           'ND':45,'SD':46,'AZ':47,'MO':48,\n",
    "                                                           'SC':49,'FM':50,'WA':51,'IN':51,\n",
    "                                                           'MA':52,'MT':53,'PR':54,'AR':55,\n",
    "                                                           'AL':56,'NJ':57,'GA':58,'MH':59,\n",
    "                                                          'UT':60})"
   ]
  },
  {
   "cell_type": "code",
   "execution_count": 9,
   "id": "deca40f4-77d4-4f10-8d01-1fa18825199d",
   "metadata": {},
   "outputs": [
    {
     "data": {
      "text/plain": [
       "51    2580\n",
       "1     1290\n",
       "31    1290\n",
       "Name: Location, dtype: int64"
      ]
     },
     "execution_count": 9,
     "metadata": {},
     "output_type": "execute_result"
    }
   ],
   "source": [
    "filtered_df['Location'].value_counts().head(3)"
   ]
  },
  {
   "cell_type": "markdown",
   "id": "a7e349ae-fdf9-4aa4-a7e1-59a696a902da",
   "metadata": {},
   "source": [
    "# Demographic_Category Encoded"
   ]
  },
  {
   "cell_type": "code",
   "execution_count": 10,
   "id": "8daec31a-02b3-440e-b8fb-6f648595b407",
   "metadata": {},
   "outputs": [
    {
     "data": {
      "text/plain": [
       "Female_Ages_18-24_yrs    1800\n",
       "Male_Ages_75+_yrs        1800\n",
       "Ages_25-39_yrs           1800\n",
       "Name: Demographic_Category, dtype: int64"
      ]
     },
     "execution_count": 10,
     "metadata": {},
     "output_type": "execute_result"
    }
   ],
   "source": [
    "filtered_df['Demographic_Category'].value_counts().head(3)"
   ]
  },
  {
   "cell_type": "code",
   "execution_count": 11,
   "id": "c8843dce-c514-44ae-80d4-e45afb5d438c",
   "metadata": {},
   "outputs": [
    {
     "name": "stderr",
     "output_type": "stream",
     "text": [
      "C:\\Users\\Sparrow\\AppData\\Local\\Temp\\ipykernel_7228\\27277440.py:1: SettingWithCopyWarning: \n",
      "A value is trying to be set on a copy of a slice from a DataFrame.\n",
      "Try using .loc[row_indexer,col_indexer] = value instead\n",
      "\n",
      "See the caveats in the documentation: https://pandas.pydata.org/pandas-docs/stable/user_guide/indexing.html#returning-a-view-versus-a-copy\n",
      "  filtered_df['Demographic_Category'] = filtered_df['Demographic_Category'].replace({\n"
     ]
    }
   ],
   "source": [
    "filtered_df['Demographic_Category'] = filtered_df['Demographic_Category'].replace({\n",
    "    'Female_Ages_18-24_yrs':1,'Male_Ages_75+_yrs':2,'Ages_25-39_yrs':3,'Female_Ages_2-4_yrs':4,\n",
    "    'Ages_<2yrs':5,'Male_Ages_65+_yrs':6,'Female_Ages_25-39_yrs':7,'Female_Ages_65-74_yrs':8,\n",
    "    'Ages_40-49_yrs':9,'Female_Ages_12-17_yrs':10,'Female_Ages_<2yrs':11,'Ages_5-11_yrs':12,\n",
    "    'Sex_Unknown':13,'Ages_65+_yrs':14,'Male_Ages_5-11_yrs':15,'Female_Ages_40-49_yrs':16,\n",
    "    'Ages_2-4_yrs':17,'Ages_12-17_yrs':18,'Male_Ages_25-49_yrs':19,'Sex_Female':20,\n",
    "    'Female_Ages_50-64_yrs':21,'Ages_<5yrs':22,'Female_Ages_5-11_yrs':23,'Ages_50-64_yrs':24,\n",
    "    'Ages_<5yrs':25,'Female_Ages_5-11_yrs':26,'Ages_50-64_yrs':27,'Ages_18-24_yrs':28,\n",
    "    'Age_Unknown':29,'Male_Ages_<5yrs':30,'Sex_Male':31,'Male_Ages_<2yrs':32,\n",
    "    'Female_Ages_<5yrs':33,'Male_Ages_65-74_yrs':34,'Ages_65-74_yrs':35,'Male_Ages_50-64_yrs':36,\n",
    "    'Ages_25-49_yrs':37,'Female_Ages_75+_yrs':38,'Male_Ages_25-39_yrs':39,'Female_Ages_25-49_yrs':40,\n",
    "    'Male_Ages_40-49_yrs':41,'Female_Ages_65+_yrs':42,'Ages_75+_yrs':43,'Male_Ages_12-17_yrs':44,\n",
    "    'Male_Ages_2-4_yrs':45,'Male_Ages_18-24_yrs':46})\n",
    "    \n",
    "    "
   ]
  },
  {
   "cell_type": "code",
   "execution_count": 12,
   "id": "022c9994-a8d1-43e2-a29b-e73e4d918e3a",
   "metadata": {},
   "outputs": [
    {
     "data": {
      "text/plain": [
       "1    1800\n",
       "2    1800\n",
       "3    1800\n",
       "Name: Demographic_Category, dtype: int64"
      ]
     },
     "execution_count": 12,
     "metadata": {},
     "output_type": "execute_result"
    }
   ],
   "source": [
    "filtered_df['Demographic_Category'].value_counts().head(3)"
   ]
  },
  {
   "cell_type": "markdown",
   "id": "b622994f-5ee9-4b81-b8be-70eb224bfaef",
   "metadata": {},
   "source": [
    "# Replacing NaN values with 0"
   ]
  },
  {
   "cell_type": "code",
   "execution_count": 13,
   "id": "14a627ff-c9ea-42bc-bf6b-ec1bb088d6d0",
   "metadata": {},
   "outputs": [
    {
     "name": "stderr",
     "output_type": "stream",
     "text": [
      "C:\\Users\\Sparrow\\AppData\\Local\\Temp\\ipykernel_7228\\122176891.py:2: SettingWithCopyWarning: \n",
      "A value is trying to be set on a copy of a slice from a DataFrame\n",
      "\n",
      "See the caveats in the documentation: https://pandas.pydata.org/pandas-docs/stable/user_guide/indexing.html#returning-a-view-versus-a-copy\n",
      "  filtered_df['Series_Complete_Yes'].replace({np.nan: 0}, inplace=True)\n"
     ]
    },
    {
     "data": {
      "text/plain": [
       "0"
      ]
     },
     "execution_count": 13,
     "metadata": {},
     "output_type": "execute_result"
    }
   ],
   "source": [
    " #Replace NaN values with 0?\n",
    "filtered_df['Series_Complete_Yes'].replace({np.nan: 0}, inplace=True)\n",
    "filtered_df['Series_Complete_Yes'].isna().sum()"
   ]
  },
  {
   "cell_type": "code",
   "execution_count": 14,
   "id": "5611da26-800e-4118-8b8b-52396c4ffa6e",
   "metadata": {},
   "outputs": [
    {
     "name": "stderr",
     "output_type": "stream",
     "text": [
      "C:\\Users\\Sparrow\\AppData\\Local\\Temp\\ipykernel_7228\\1473962918.py:2: SettingWithCopyWarning: \n",
      "A value is trying to be set on a copy of a slice from a DataFrame\n",
      "\n",
      "See the caveats in the documentation: https://pandas.pydata.org/pandas-docs/stable/user_guide/indexing.html#returning-a-view-versus-a-copy\n",
      "  filtered_df['Administered_Dose1'].replace({np.nan:0}, inplace=True)\n"
     ]
    },
    {
     "data": {
      "text/plain": [
       "0"
      ]
     },
     "execution_count": 14,
     "metadata": {},
     "output_type": "execute_result"
    }
   ],
   "source": [
    "#Replace NaN values with 0?\n",
    "filtered_df['Administered_Dose1'].replace({np.nan:0}, inplace=True)\n",
    "filtered_df['Administered_Dose1'].isna().sum()"
   ]
  },
  {
   "cell_type": "code",
   "execution_count": 15,
   "id": "02992e62-96ac-4ce4-b65f-89109fa5b32e",
   "metadata": {},
   "outputs": [
    {
     "name": "stderr",
     "output_type": "stream",
     "text": [
      "C:\\Users\\Sparrow\\AppData\\Local\\Temp\\ipykernel_7228\\3921813770.py:2: SettingWithCopyWarning: \n",
      "A value is trying to be set on a copy of a slice from a DataFrame\n",
      "\n",
      "See the caveats in the documentation: https://pandas.pydata.org/pandas-docs/stable/user_guide/indexing.html#returning-a-view-versus-a-copy\n",
      "  filtered_df['Second_Booster'].replace({np.nan:0}, inplace=True)\n"
     ]
    },
    {
     "data": {
      "text/plain": [
       "0"
      ]
     },
     "execution_count": 15,
     "metadata": {},
     "output_type": "execute_result"
    }
   ],
   "source": [
    " #Replace NaN values with 0?\n",
    "filtered_df['Second_Booster'].replace({np.nan:0}, inplace=True)\n",
    "filtered_df['Second_Booster'].isna().sum() "
   ]
  },
  {
   "cell_type": "markdown",
   "id": "2427fd5f-73ea-4b26-aec9-cb7f5a0bd105",
   "metadata": {},
   "source": [
    "# New Columns"
   ]
  },
  {
   "cell_type": "code",
   "execution_count": 16,
   "id": "b7f653ab-b8bc-40f4-abe3-3fdaa56da44b",
   "metadata": {
    "tags": []
   },
   "outputs": [],
   "source": [
    "#[n for n in df['Administered_Dose1'] if n > 0]"
   ]
  },
  {
   "cell_type": "code",
   "execution_count": 17,
   "id": "5d0e878e-4c5b-4765-b368-5ca63f496cf6",
   "metadata": {},
   "outputs": [
    {
     "name": "stderr",
     "output_type": "stream",
     "text": [
      "C:\\Users\\Sparrow\\AppData\\Local\\Temp\\ipykernel_7228\\362082597.py:1: SettingWithCopyWarning: \n",
      "A value is trying to be set on a copy of a slice from a DataFrame.\n",
      "Try using .loc[row_indexer,col_indexer] = value instead\n",
      "\n",
      "See the caveats in the documentation: https://pandas.pydata.org/pandas-docs/stable/user_guide/indexing.html#returning-a-view-versus-a-copy\n",
      "  filtered_df['Not_Vaccinated'] = filtered_df['census'] - filtered_df['Administered_Dose1']\n"
     ]
    },
    {
     "data": {
      "text/html": [
       "<div>\n",
       "<style scoped>\n",
       "    .dataframe tbody tr th:only-of-type {\n",
       "        vertical-align: middle;\n",
       "    }\n",
       "\n",
       "    .dataframe tbody tr th {\n",
       "        vertical-align: top;\n",
       "    }\n",
       "\n",
       "    .dataframe thead th {\n",
       "        text-align: right;\n",
       "    }\n",
       "</style>\n",
       "<table border=\"1\" class=\"dataframe\">\n",
       "  <thead>\n",
       "    <tr style=\"text-align: right;\">\n",
       "      <th></th>\n",
       "      <th>Date</th>\n",
       "      <th>Location</th>\n",
       "      <th>Demographic_Category</th>\n",
       "      <th>census</th>\n",
       "      <th>Administered_Dose1</th>\n",
       "      <th>Series_Complete_Yes</th>\n",
       "      <th>Booster_Doses</th>\n",
       "      <th>Second_Booster</th>\n",
       "      <th>Administered_Dose1_pct_agegroup</th>\n",
       "      <th>Series_Complete_Pop_pct_agegroup</th>\n",
       "      <th>Booster_Doses_Vax_pct_agegroup</th>\n",
       "      <th>Second_Booster_Vax_pct_agegroup</th>\n",
       "      <th>Not_Vaccinated</th>\n",
       "    </tr>\n",
       "  </thead>\n",
       "  <tbody>\n",
       "    <tr>\n",
       "      <th>882360</th>\n",
       "      <td>2021-12-30</td>\n",
       "      <td>1</td>\n",
       "      <td>1</td>\n",
       "      <td>52055.0</td>\n",
       "      <td>48939.0</td>\n",
       "      <td>42161.0</td>\n",
       "      <td>10687.0</td>\n",
       "      <td>0.0</td>\n",
       "      <td>94.0</td>\n",
       "      <td>81.0</td>\n",
       "      <td>25.3</td>\n",
       "      <td>NaN</td>\n",
       "      <td>3116.0</td>\n",
       "    </tr>\n",
       "    <tr>\n",
       "      <th>882361</th>\n",
       "      <td>2021-12-30</td>\n",
       "      <td>2</td>\n",
       "      <td>1</td>\n",
       "      <td>481323.0</td>\n",
       "      <td>358173.0</td>\n",
       "      <td>262023.0</td>\n",
       "      <td>28112.0</td>\n",
       "      <td>0.0</td>\n",
       "      <td>74.4</td>\n",
       "      <td>54.4</td>\n",
       "      <td>10.7</td>\n",
       "      <td>NaN</td>\n",
       "      <td>123150.0</td>\n",
       "    </tr>\n",
       "  </tbody>\n",
       "</table>\n",
       "</div>"
      ],
      "text/plain": [
       "             Date  Location  Demographic_Category    census  \\\n",
       "882360 2021-12-30         1                     1   52055.0   \n",
       "882361 2021-12-30         2                     1  481323.0   \n",
       "\n",
       "        Administered_Dose1  Series_Complete_Yes  Booster_Doses  \\\n",
       "882360             48939.0              42161.0        10687.0   \n",
       "882361            358173.0             262023.0        28112.0   \n",
       "\n",
       "        Second_Booster  Administered_Dose1_pct_agegroup  \\\n",
       "882360             0.0                             94.0   \n",
       "882361             0.0                             74.4   \n",
       "\n",
       "        Series_Complete_Pop_pct_agegroup  Booster_Doses_Vax_pct_agegroup  \\\n",
       "882360                              81.0                            25.3   \n",
       "882361                              54.4                            10.7   \n",
       "\n",
       "        Second_Booster_Vax_pct_agegroup  Not_Vaccinated  \n",
       "882360                              NaN          3116.0  \n",
       "882361                              NaN        123150.0  "
      ]
     },
     "execution_count": 17,
     "metadata": {},
     "output_type": "execute_result"
    }
   ],
   "source": [
    "filtered_df['Not_Vaccinated'] = filtered_df['census'] - filtered_df['Administered_Dose1'] \n",
    "filtered_df.head(2)"
   ]
  },
  {
   "cell_type": "markdown",
   "id": "5930b09a-565f-4e3e-a9b8-435043f575d6",
   "metadata": {},
   "source": [
    "# DataFrame 2 (df2)"
   ]
  },
  {
   "cell_type": "code",
   "execution_count": 18,
   "id": "279c8f06-b97b-40b0-9080-2a8a6f334f77",
   "metadata": {},
   "outputs": [
    {
     "data": {
      "text/html": [
       "<div>\n",
       "<style scoped>\n",
       "    .dataframe tbody tr th:only-of-type {\n",
       "        vertical-align: middle;\n",
       "    }\n",
       "\n",
       "    .dataframe tbody tr th {\n",
       "        vertical-align: top;\n",
       "    }\n",
       "\n",
       "    .dataframe thead th {\n",
       "        text-align: right;\n",
       "    }\n",
       "</style>\n",
       "<table border=\"1\" class=\"dataframe\">\n",
       "  <thead>\n",
       "    <tr style=\"text-align: right;\">\n",
       "      <th></th>\n",
       "      <th>Date</th>\n",
       "      <th>Location</th>\n",
       "      <th>Demographic_Category</th>\n",
       "      <th>census</th>\n",
       "      <th>Not_Vaccinated</th>\n",
       "      <th>Administered_Dose1</th>\n",
       "      <th>Series_Complete_Yes</th>\n",
       "    </tr>\n",
       "  </thead>\n",
       "  <tbody>\n",
       "    <tr>\n",
       "      <th>882360</th>\n",
       "      <td>2021-12-30</td>\n",
       "      <td>1</td>\n",
       "      <td>1</td>\n",
       "      <td>52055.0</td>\n",
       "      <td>3116.0</td>\n",
       "      <td>48939.0</td>\n",
       "      <td>42161.0</td>\n",
       "    </tr>\n",
       "    <tr>\n",
       "      <th>882361</th>\n",
       "      <td>2021-12-30</td>\n",
       "      <td>2</td>\n",
       "      <td>1</td>\n",
       "      <td>481323.0</td>\n",
       "      <td>123150.0</td>\n",
       "      <td>358173.0</td>\n",
       "      <td>262023.0</td>\n",
       "    </tr>\n",
       "  </tbody>\n",
       "</table>\n",
       "</div>"
      ],
      "text/plain": [
       "             Date  Location  Demographic_Category    census  Not_Vaccinated  \\\n",
       "882360 2021-12-30         1                     1   52055.0          3116.0   \n",
       "882361 2021-12-30         2                     1  481323.0        123150.0   \n",
       "\n",
       "        Administered_Dose1  Series_Complete_Yes  \n",
       "882360             48939.0              42161.0  \n",
       "882361            358173.0             262023.0  "
      ]
     },
     "execution_count": 18,
     "metadata": {},
     "output_type": "execute_result"
    }
   ],
   "source": [
    "df2 = filtered_df[['Date','Location','Demographic_Category','census','Not_Vaccinated','Administered_Dose1','Series_Complete_Yes']]\n",
    "df2.head(2)"
   ]
  },
  {
   "cell_type": "code",
   "execution_count": 19,
   "id": "5fe953c6-8627-47a9-9882-ab7ee23c1706",
   "metadata": {},
   "outputs": [
    {
     "name": "stdout",
     "output_type": "stream",
     "text": [
      "<class 'pandas.core.frame.DataFrame'>\n",
      "Int64Index: 77400 entries, 882360 to 959759\n",
      "Data columns (total 7 columns):\n",
      " #   Column                Non-Null Count  Dtype         \n",
      "---  ------                --------------  -----         \n",
      " 0   Date                  77400 non-null  datetime64[ns]\n",
      " 1   Location              77400 non-null  int64         \n",
      " 2   Demographic_Category  77400 non-null  int64         \n",
      " 3   census                73800 non-null  float64       \n",
      " 4   Not_Vaccinated        73800 non-null  float64       \n",
      " 5   Administered_Dose1    77400 non-null  float64       \n",
      " 6   Series_Complete_Yes   77400 non-null  float64       \n",
      "dtypes: datetime64[ns](1), float64(4), int64(2)\n",
      "memory usage: 4.7 MB\n"
     ]
    }
   ],
   "source": [
    "df2.info()"
   ]
  },
  {
   "cell_type": "markdown",
   "id": "f4641479-a91d-44ec-bf09-e330bd110750",
   "metadata": {},
   "source": [
    "# Example"
   ]
  },
  {
   "cell_type": "code",
   "execution_count": 20,
   "id": "67253f32-f6e3-4ff4-b60e-df4dcc97a152",
   "metadata": {},
   "outputs": [
    {
     "data": {
      "text/html": [
       "<div>\n",
       "<style scoped>\n",
       "    .dataframe tbody tr th:only-of-type {\n",
       "        vertical-align: middle;\n",
       "    }\n",
       "\n",
       "    .dataframe tbody tr th {\n",
       "        vertical-align: top;\n",
       "    }\n",
       "\n",
       "    .dataframe thead th {\n",
       "        text-align: right;\n",
       "    }\n",
       "</style>\n",
       "<table border=\"1\" class=\"dataframe\">\n",
       "  <thead>\n",
       "    <tr style=\"text-align: right;\">\n",
       "      <th></th>\n",
       "      <th>Date</th>\n",
       "      <th>Location</th>\n",
       "      <th>Demographic_Category</th>\n",
       "      <th>census</th>\n",
       "      <th>Not_Vaccinated</th>\n",
       "      <th>Administered_Dose1</th>\n",
       "      <th>Series_Complete_Yes</th>\n",
       "    </tr>\n",
       "  </thead>\n",
       "  <tbody>\n",
       "    <tr>\n",
       "      <th>882412</th>\n",
       "      <td>2021-12-30</td>\n",
       "      <td>3</td>\n",
       "      <td>41</td>\n",
       "      <td>1152260.0</td>\n",
       "      <td>73736.0</td>\n",
       "      <td>1078524.0</td>\n",
       "      <td>933204.0</td>\n",
       "    </tr>\n",
       "    <tr>\n",
       "      <th>882463</th>\n",
       "      <td>2021-12-30</td>\n",
       "      <td>3</td>\n",
       "      <td>8</td>\n",
       "      <td>1004677.0</td>\n",
       "      <td>-57448.0</td>\n",
       "      <td>1062125.0</td>\n",
       "      <td>928628.0</td>\n",
       "    </tr>\n",
       "    <tr>\n",
       "      <th>882484</th>\n",
       "      <td>2021-12-30</td>\n",
       "      <td>3</td>\n",
       "      <td>44</td>\n",
       "      <td>688889.0</td>\n",
       "      <td>171954.0</td>\n",
       "      <td>516935.0</td>\n",
       "      <td>451123.0</td>\n",
       "    </tr>\n",
       "  </tbody>\n",
       "</table>\n",
       "</div>"
      ],
      "text/plain": [
       "             Date  Location  Demographic_Category     census  Not_Vaccinated  \\\n",
       "882412 2021-12-30         3                    41  1152260.0         73736.0   \n",
       "882463 2021-12-30         3                     8  1004677.0        -57448.0   \n",
       "882484 2021-12-30         3                    44   688889.0        171954.0   \n",
       "\n",
       "        Administered_Dose1  Series_Complete_Yes  \n",
       "882412           1078524.0             933204.0  \n",
       "882463           1062125.0             928628.0  \n",
       "882484            516935.0             451123.0  "
      ]
     },
     "execution_count": 20,
     "metadata": {},
     "output_type": "execute_result"
    }
   ],
   "source": [
    "NY = df2[df2['Location'] == 3] # NY = 3\n",
    "NY.head(3)"
   ]
  },
  {
   "cell_type": "code",
   "execution_count": 21,
   "id": "1ea7f46e-c486-42f9-a82a-cf7d38173316",
   "metadata": {},
   "outputs": [
    {
     "data": {
      "text/html": [
       "<div>\n",
       "<style scoped>\n",
       "    .dataframe tbody tr th:only-of-type {\n",
       "        vertical-align: middle;\n",
       "    }\n",
       "\n",
       "    .dataframe tbody tr th {\n",
       "        vertical-align: top;\n",
       "    }\n",
       "\n",
       "    .dataframe thead th {\n",
       "        text-align: right;\n",
       "    }\n",
       "</style>\n",
       "<table border=\"1\" class=\"dataframe\">\n",
       "  <thead>\n",
       "    <tr style=\"text-align: right;\">\n",
       "      <th></th>\n",
       "      <th>Date</th>\n",
       "      <th>Location</th>\n",
       "      <th>Demographic_Category</th>\n",
       "      <th>census</th>\n",
       "      <th>Not_Vaccinated</th>\n",
       "      <th>Administered_Dose1</th>\n",
       "      <th>Series_Complete_Yes</th>\n",
       "    </tr>\n",
       "  </thead>\n",
       "  <tbody>\n",
       "    <tr>\n",
       "      <th>882397</th>\n",
       "      <td>2021-12-30</td>\n",
       "      <td>57</td>\n",
       "      <td>44</td>\n",
       "      <td>344043.0</td>\n",
       "      <td>85111.0</td>\n",
       "      <td>258932.0</td>\n",
       "      <td>225497.0</td>\n",
       "    </tr>\n",
       "    <tr>\n",
       "      <th>882449</th>\n",
       "      <td>2021-12-30</td>\n",
       "      <td>57</td>\n",
       "      <td>12</td>\n",
       "      <td>749125.0</td>\n",
       "      <td>510916.0</td>\n",
       "      <td>238209.0</td>\n",
       "      <td>151939.0</td>\n",
       "    </tr>\n",
       "    <tr>\n",
       "      <th>882562</th>\n",
       "      <td>2021-12-30</td>\n",
       "      <td>57</td>\n",
       "      <td>39</td>\n",
       "      <td>875570.0</td>\n",
       "      <td>106751.0</td>\n",
       "      <td>768819.0</td>\n",
       "      <td>640280.0</td>\n",
       "    </tr>\n",
       "  </tbody>\n",
       "</table>\n",
       "</div>"
      ],
      "text/plain": [
       "             Date  Location  Demographic_Category    census  Not_Vaccinated  \\\n",
       "882397 2021-12-30        57                    44  344043.0         85111.0   \n",
       "882449 2021-12-30        57                    12  749125.0        510916.0   \n",
       "882562 2021-12-30        57                    39  875570.0        106751.0   \n",
       "\n",
       "        Administered_Dose1  Series_Complete_Yes  \n",
       "882397            258932.0             225497.0  \n",
       "882449            238209.0             151939.0  \n",
       "882562            768819.0             640280.0  "
      ]
     },
     "execution_count": 21,
     "metadata": {},
     "output_type": "execute_result"
    }
   ],
   "source": [
    "NJ = df2[df2['Location'] == 57] #NJ =57\n",
    "NJ.head(3)"
   ]
  },
  {
   "cell_type": "code",
   "execution_count": 22,
   "id": "3cc1b5cd-a458-4c97-bcb4-55e198f4e19a",
   "metadata": {},
   "outputs": [
    {
     "data": {
      "text/html": [
       "<div>\n",
       "<style scoped>\n",
       "    .dataframe tbody tr th:only-of-type {\n",
       "        vertical-align: middle;\n",
       "    }\n",
       "\n",
       "    .dataframe tbody tr th {\n",
       "        vertical-align: top;\n",
       "    }\n",
       "\n",
       "    .dataframe thead th {\n",
       "        text-align: right;\n",
       "    }\n",
       "</style>\n",
       "<table border=\"1\" class=\"dataframe\">\n",
       "  <thead>\n",
       "    <tr style=\"text-align: right;\">\n",
       "      <th></th>\n",
       "      <th>Date</th>\n",
       "      <th>Location</th>\n",
       "      <th>Demographic_Category</th>\n",
       "      <th>census</th>\n",
       "      <th>Not_Vaccinated</th>\n",
       "      <th>Administered_Dose1</th>\n",
       "      <th>Series_Complete_Yes</th>\n",
       "    </tr>\n",
       "  </thead>\n",
       "  <tbody>\n",
       "    <tr>\n",
       "      <th>883464</th>\n",
       "      <td>2021-12-30</td>\n",
       "      <td>3</td>\n",
       "      <td>36</td>\n",
       "      <td>1862305.0</td>\n",
       "      <td>48787.0</td>\n",
       "      <td>1813518.0</td>\n",
       "      <td>1601616.0</td>\n",
       "    </tr>\n",
       "    <tr>\n",
       "      <th>886483</th>\n",
       "      <td>2021-12-29</td>\n",
       "      <td>3</td>\n",
       "      <td>36</td>\n",
       "      <td>1862305.0</td>\n",
       "      <td>52003.0</td>\n",
       "      <td>1810302.0</td>\n",
       "      <td>1600740.0</td>\n",
       "    </tr>\n",
       "    <tr>\n",
       "      <th>887881</th>\n",
       "      <td>2021-12-28</td>\n",
       "      <td>3</td>\n",
       "      <td>36</td>\n",
       "      <td>1862305.0</td>\n",
       "      <td>55421.0</td>\n",
       "      <td>1806884.0</td>\n",
       "      <td>1599797.0</td>\n",
       "    </tr>\n",
       "  </tbody>\n",
       "</table>\n",
       "</div>"
      ],
      "text/plain": [
       "             Date  Location  Demographic_Category     census  Not_Vaccinated  \\\n",
       "883464 2021-12-30         3                    36  1862305.0         48787.0   \n",
       "886483 2021-12-29         3                    36  1862305.0         52003.0   \n",
       "887881 2021-12-28         3                    36  1862305.0         55421.0   \n",
       "\n",
       "        Administered_Dose1  Series_Complete_Yes  \n",
       "883464           1813518.0            1601616.0  \n",
       "886483           1810302.0            1600740.0  \n",
       "887881           1806884.0            1599797.0  "
      ]
     },
     "execution_count": 22,
     "metadata": {},
     "output_type": "execute_result"
    }
   ],
   "source": [
    "NY2 = NY[NY['Demographic_Category'] == 36] # 'Male_Ages_50-64_yrs'= 36\n",
    "NY2.head(3)"
   ]
  },
  {
   "cell_type": "code",
   "execution_count": 23,
   "id": "2acddd4c-af20-48a1-95ac-2c353c83e85c",
   "metadata": {},
   "outputs": [
    {
     "data": {
      "text/html": [
       "<div>\n",
       "<style scoped>\n",
       "    .dataframe tbody tr th:only-of-type {\n",
       "        vertical-align: middle;\n",
       "    }\n",
       "\n",
       "    .dataframe tbody tr th {\n",
       "        vertical-align: top;\n",
       "    }\n",
       "\n",
       "    .dataframe thead th {\n",
       "        text-align: right;\n",
       "    }\n",
       "</style>\n",
       "<table border=\"1\" class=\"dataframe\">\n",
       "  <thead>\n",
       "    <tr style=\"text-align: right;\">\n",
       "      <th></th>\n",
       "      <th>Date</th>\n",
       "      <th>Location</th>\n",
       "      <th>Demographic_Category</th>\n",
       "      <th>census</th>\n",
       "      <th>Not_Vaccinated</th>\n",
       "      <th>Administered_Dose1</th>\n",
       "      <th>Series_Complete_Yes</th>\n",
       "    </tr>\n",
       "  </thead>\n",
       "  <tbody>\n",
       "    <tr>\n",
       "      <th>882708</th>\n",
       "      <td>2021-12-30</td>\n",
       "      <td>57</td>\n",
       "      <td>36</td>\n",
       "      <td>889733.0</td>\n",
       "      <td>6623.0</td>\n",
       "      <td>883110.0</td>\n",
       "      <td>759670.0</td>\n",
       "    </tr>\n",
       "    <tr>\n",
       "      <th>886033</th>\n",
       "      <td>2021-12-29</td>\n",
       "      <td>57</td>\n",
       "      <td>36</td>\n",
       "      <td>889733.0</td>\n",
       "      <td>7897.0</td>\n",
       "      <td>881836.0</td>\n",
       "      <td>759305.0</td>\n",
       "    </tr>\n",
       "    <tr>\n",
       "      <th>889600</th>\n",
       "      <td>2021-12-28</td>\n",
       "      <td>57</td>\n",
       "      <td>36</td>\n",
       "      <td>889733.0</td>\n",
       "      <td>9182.0</td>\n",
       "      <td>880551.0</td>\n",
       "      <td>758876.0</td>\n",
       "    </tr>\n",
       "  </tbody>\n",
       "</table>\n",
       "</div>"
      ],
      "text/plain": [
       "             Date  Location  Demographic_Category    census  Not_Vaccinated  \\\n",
       "882708 2021-12-30        57                    36  889733.0          6623.0   \n",
       "886033 2021-12-29        57                    36  889733.0          7897.0   \n",
       "889600 2021-12-28        57                    36  889733.0          9182.0   \n",
       "\n",
       "        Administered_Dose1  Series_Complete_Yes  \n",
       "882708            883110.0             759670.0  \n",
       "886033            881836.0             759305.0  \n",
       "889600            880551.0             758876.0  "
      ]
     },
     "execution_count": 23,
     "metadata": {},
     "output_type": "execute_result"
    }
   ],
   "source": [
    "NJ2 = NJ[NJ['Demographic_Category'] == 36] # 'Male_Ages_50-64_yrs'= 36\n",
    "NJ2.head(3)"
   ]
  },
  {
   "cell_type": "code",
   "execution_count": 24,
   "id": "69e52545-f252-471e-bf04-7d4f4125323d",
   "metadata": {},
   "outputs": [
    {
     "data": {
      "text/html": [
       "<div>\n",
       "<style scoped>\n",
       "    .dataframe tbody tr th:only-of-type {\n",
       "        vertical-align: middle;\n",
       "    }\n",
       "\n",
       "    .dataframe tbody tr th {\n",
       "        vertical-align: top;\n",
       "    }\n",
       "\n",
       "    .dataframe thead th {\n",
       "        text-align: right;\n",
       "    }\n",
       "</style>\n",
       "<table border=\"1\" class=\"dataframe\">\n",
       "  <thead>\n",
       "    <tr style=\"text-align: right;\">\n",
       "      <th></th>\n",
       "      <th>Date</th>\n",
       "      <th>Location</th>\n",
       "      <th>Demographic_Category</th>\n",
       "      <th>census</th>\n",
       "      <th>Not_Vaccinated</th>\n",
       "      <th>Administered_Dose1</th>\n",
       "      <th>Series_Complete_Yes</th>\n",
       "    </tr>\n",
       "  </thead>\n",
       "  <tbody>\n",
       "    <tr>\n",
       "      <th>935368</th>\n",
       "      <td>2021-12-10</td>\n",
       "      <td>3</td>\n",
       "      <td>36</td>\n",
       "      <td>1862305.0</td>\n",
       "      <td>103690.0</td>\n",
       "      <td>1758615.0</td>\n",
       "      <td>1586299.0</td>\n",
       "    </tr>\n",
       "    <tr>\n",
       "      <th>937672</th>\n",
       "      <td>2021-12-09</td>\n",
       "      <td>3</td>\n",
       "      <td>36</td>\n",
       "      <td>1862305.0</td>\n",
       "      <td>106661.0</td>\n",
       "      <td>1755644.0</td>\n",
       "      <td>1585283.0</td>\n",
       "    </tr>\n",
       "    <tr>\n",
       "      <th>939487</th>\n",
       "      <td>2021-12-08</td>\n",
       "      <td>3</td>\n",
       "      <td>36</td>\n",
       "      <td>1862305.0</td>\n",
       "      <td>109549.0</td>\n",
       "      <td>1752756.0</td>\n",
       "      <td>1584338.0</td>\n",
       "    </tr>\n",
       "    <tr>\n",
       "      <th>943112</th>\n",
       "      <td>2021-12-07</td>\n",
       "      <td>3</td>\n",
       "      <td>36</td>\n",
       "      <td>1862305.0</td>\n",
       "      <td>112612.0</td>\n",
       "      <td>1749693.0</td>\n",
       "      <td>1583351.0</td>\n",
       "    </tr>\n",
       "    <tr>\n",
       "      <th>946147</th>\n",
       "      <td>2021-12-06</td>\n",
       "      <td>3</td>\n",
       "      <td>36</td>\n",
       "      <td>1862305.0</td>\n",
       "      <td>115731.0</td>\n",
       "      <td>1746574.0</td>\n",
       "      <td>1582323.0</td>\n",
       "    </tr>\n",
       "    <tr>\n",
       "      <th>949393</th>\n",
       "      <td>2021-12-05</td>\n",
       "      <td>3</td>\n",
       "      <td>36</td>\n",
       "      <td>1862305.0</td>\n",
       "      <td>118632.0</td>\n",
       "      <td>1743673.0</td>\n",
       "      <td>1581371.0</td>\n",
       "    </tr>\n",
       "    <tr>\n",
       "      <th>950960</th>\n",
       "      <td>2021-12-04</td>\n",
       "      <td>3</td>\n",
       "      <td>36</td>\n",
       "      <td>1862305.0</td>\n",
       "      <td>119981.0</td>\n",
       "      <td>1742324.0</td>\n",
       "      <td>1580969.0</td>\n",
       "    </tr>\n",
       "    <tr>\n",
       "      <th>954048</th>\n",
       "      <td>2021-12-03</td>\n",
       "      <td>3</td>\n",
       "      <td>36</td>\n",
       "      <td>1862305.0</td>\n",
       "      <td>122296.0</td>\n",
       "      <td>1740009.0</td>\n",
       "      <td>1580251.0</td>\n",
       "    </tr>\n",
       "    <tr>\n",
       "      <th>956387</th>\n",
       "      <td>2021-12-02</td>\n",
       "      <td>3</td>\n",
       "      <td>36</td>\n",
       "      <td>1862305.0</td>\n",
       "      <td>125469.0</td>\n",
       "      <td>1736836.0</td>\n",
       "      <td>1579199.0</td>\n",
       "    </tr>\n",
       "    <tr>\n",
       "      <th>958131</th>\n",
       "      <td>2021-12-01</td>\n",
       "      <td>3</td>\n",
       "      <td>36</td>\n",
       "      <td>1862305.0</td>\n",
       "      <td>128531.0</td>\n",
       "      <td>1733774.0</td>\n",
       "      <td>1578088.0</td>\n",
       "    </tr>\n",
       "  </tbody>\n",
       "</table>\n",
       "</div>"
      ],
      "text/plain": [
       "             Date  Location  Demographic_Category     census  Not_Vaccinated  \\\n",
       "935368 2021-12-10         3                    36  1862305.0        103690.0   \n",
       "937672 2021-12-09         3                    36  1862305.0        106661.0   \n",
       "939487 2021-12-08         3                    36  1862305.0        109549.0   \n",
       "943112 2021-12-07         3                    36  1862305.0        112612.0   \n",
       "946147 2021-12-06         3                    36  1862305.0        115731.0   \n",
       "949393 2021-12-05         3                    36  1862305.0        118632.0   \n",
       "950960 2021-12-04         3                    36  1862305.0        119981.0   \n",
       "954048 2021-12-03         3                    36  1862305.0        122296.0   \n",
       "956387 2021-12-02         3                    36  1862305.0        125469.0   \n",
       "958131 2021-12-01         3                    36  1862305.0        128531.0   \n",
       "\n",
       "        Administered_Dose1  Series_Complete_Yes  \n",
       "935368           1758615.0            1586299.0  \n",
       "937672           1755644.0            1585283.0  \n",
       "939487           1752756.0            1584338.0  \n",
       "943112           1749693.0            1583351.0  \n",
       "946147           1746574.0            1582323.0  \n",
       "949393           1743673.0            1581371.0  \n",
       "950960           1742324.0            1580969.0  \n",
       "954048           1740009.0            1580251.0  \n",
       "956387           1736836.0            1579199.0  \n",
       "958131           1733774.0            1578088.0  "
      ]
     },
     "execution_count": 24,
     "metadata": {},
     "output_type": "execute_result"
    }
   ],
   "source": [
    "NY2.tail(10)"
   ]
  },
  {
   "cell_type": "code",
   "execution_count": 25,
   "id": "fc341889-02a8-4e43-867b-49c6f2fda801",
   "metadata": {},
   "outputs": [
    {
     "data": {
      "image/png": "[encoded data removed]",
      "text/plain": [
       "<Figure size 432x288 with 1 Axes>"
      ]
     },
     "metadata": {
      "needs_background": "light"
     },
     "output_type": "display_data"
    }
   ],
   "source": [
    "sns.barplot(data=NY2.tail(10), x= NY2['Administered_Dose1'].tail(10), y=NY2['Date'].tail(10)).set(title='NY Male_Ages_50-64_yrs First Dose 12/13-12/22');\n"
   ]
  },
  {
   "cell_type": "code",
   "execution_count": 26,
   "id": "7cd05874-e9c8-427e-8e0b-382410cd9cf0",
   "metadata": {},
   "outputs": [
    {
     "data": {
      "image/png": "[encoded data removed]",
      "text/plain": [
       "<Figure size 432x288 with 1 Axes>"
      ]
     },
     "metadata": {
      "needs_background": "light"
     },
     "output_type": "display_data"
    }
   ],
   "source": [
    "sns.barplot(data=NJ2.tail(10), x= NJ2['Administered_Dose1'].tail(10), y=NJ2['Date'].tail(10)).set(title='NJ Male_Ages_50-64_yrs First Dose 12/13-12/22');\n"
   ]
  },
  {
   "cell_type": "code",
   "execution_count": 27,
   "id": "c9678a1c-5cf7-4f31-b4b2-eac0fc352124",
   "metadata": {},
   "outputs": [
    {
     "data": {
      "image/png": "[encoded data removed]",
      "text/plain": [
       "<Figure size 432x288 with 1 Axes>"
      ]
     },
     "metadata": {
      "needs_background": "light"
     },
     "output_type": "display_data"
    }
   ],
   "source": [
    "sns.barplot(data=NY2.tail(10), x= NY2['Series_Complete_Yes'].tail(10), y=NY2['Date'].tail(10)).set(title='NY Male_Ages_50-64_yrs Fully Vaccinated 12/13-12/22');"
   ]
  },
  {
   "cell_type": "code",
   "execution_count": 28,
   "id": "c913d492-6009-48f5-9afe-36a65fc1fb09",
   "metadata": {},
   "outputs": [
    {
     "data": {
      "image/png": "[encoded data removed]",
      "text/plain": [
       "<Figure size 432x288 with 1 Axes>"
      ]
     },
     "metadata": {
      "needs_background": "light"
     },
     "output_type": "display_data"
    }
   ],
   "source": [
    "sns.barplot(data=NJ2.tail(10), x= NJ2['Series_Complete_Yes'].tail(10), y=NJ2['Date'].tail(10)).set(title='NJ Male_Ages_50-64_yrs Fully Vaccinated 12/13-12/22');"
   ]
  },
  {
   "cell_type": "code",
   "execution_count": 29,
   "id": "0e70e342-1142-47cc-be71-5c9869a5a99a",
   "metadata": {},
   "outputs": [
    {
     "data": {
      "image/png": "[encoded data removed]",
      "text/plain": [
       "<Figure size 432x288 with 1 Axes>"
      ]
     },
     "metadata": {
      "needs_background": "light"
     },
     "output_type": "display_data"
    }
   ],
   "source": [
    "sns.barplot(data=NY2.tail(10), y= NY2['Date'].tail(10), x = NY2['Not_Vaccinated'].tail(10)).set(title='NY Male_Ages_50-64_yrs Not Vaccinated 12/13-12/22');"
   ]
  },
  {
   "cell_type": "code",
   "execution_count": 30,
   "id": "e0a31adc-7621-4807-a552-9828159c3e3f",
   "metadata": {},
   "outputs": [
    {
     "data": {
      "image/png": "[encoded data removed]",
      "text/plain": [
       "<Figure size 432x288 with 1 Axes>"
      ]
     },
     "metadata": {
      "needs_background": "light"
     },
     "output_type": "display_data"
    }
   ],
   "source": [
    "sns.barplot(data=NJ2.tail(10), y= NJ2['Date'].tail(10), x = NJ2['Not_Vaccinated'].tail(10)).set(title='NJ Male_Ages_50-64_yrs Not Vaccinated 12/13-12/22');"
   ]
  },
  {
   "cell_type": "code",
   "execution_count": 31,
   "id": "9ac15073-573d-470b-84e2-c20a21b6f180",
   "metadata": {},
   "outputs": [],
   "source": [
    "df2.to_csv('filtered_df.csv')"
   ]
  },
  {
   "cell_type": "code",
   "execution_count": 32,
   "id": "e83d23df-0389-478d-892d-915299375101",
   "metadata": {},
   "outputs": [
    {
     "data": {
      "text/html": [
       "<div>\n",
       "<style scoped>\n",
       "    .dataframe tbody tr th:only-of-type {\n",
       "        vertical-align: middle;\n",
       "    }\n",
       "\n",
       "    .dataframe tbody tr th {\n",
       "        vertical-align: top;\n",
       "    }\n",
       "\n",
       "    .dataframe thead th {\n",
       "        text-align: right;\n",
       "    }\n",
       "</style>\n",
       "<table border=\"1\" class=\"dataframe\">\n",
       "  <thead>\n",
       "    <tr style=\"text-align: right;\">\n",
       "      <th></th>\n",
       "      <th>Date</th>\n",
       "      <th>Location</th>\n",
       "      <th>Demographic_Category</th>\n",
       "      <th>census</th>\n",
       "      <th>Administered_Dose1</th>\n",
       "      <th>Series_Complete_Yes</th>\n",
       "      <th>Booster_Doses</th>\n",
       "      <th>Second_Booster</th>\n",
       "      <th>Administered_Dose1_pct_agegroup</th>\n",
       "      <th>Series_Complete_Pop_pct_agegroup</th>\n",
       "      <th>Booster_Doses_Vax_pct_agegroup</th>\n",
       "      <th>Second_Booster_Vax_pct_agegroup</th>\n",
       "    </tr>\n",
       "  </thead>\n",
       "  <tbody>\n",
       "    <tr>\n",
       "      <th>0</th>\n",
       "      <td>2022-12-07</td>\n",
       "      <td>SD</td>\n",
       "      <td>Female_Ages_25-39_yrs</td>\n",
       "      <td>82026.0</td>\n",
       "      <td>70565.0</td>\n",
       "      <td>54893.0</td>\n",
       "      <td>19864.0</td>\n",
       "      <td>NaN</td>\n",
       "      <td>86.0</td>\n",
       "      <td>66.9</td>\n",
       "      <td>36.2</td>\n",
       "      <td>NaN</td>\n",
       "    </tr>\n",
       "    <tr>\n",
       "      <th>1</th>\n",
       "      <td>2022-12-07</td>\n",
       "      <td>WI</td>\n",
       "      <td>Female_Ages_25-39_yrs</td>\n",
       "      <td>545614.0</td>\n",
       "      <td>425661.0</td>\n",
       "      <td>380299.0</td>\n",
       "      <td>194014.0</td>\n",
       "      <td>NaN</td>\n",
       "      <td>78.0</td>\n",
       "      <td>69.7</td>\n",
       "      <td>51.0</td>\n",
       "      <td>NaN</td>\n",
       "    </tr>\n",
       "    <tr>\n",
       "      <th>2</th>\n",
       "      <td>2022-12-07</td>\n",
       "      <td>IN</td>\n",
       "      <td>Sex_Female</td>\n",
       "      <td>3411859.0</td>\n",
       "      <td>2257339.0</td>\n",
       "      <td>2040656.0</td>\n",
       "      <td>1069660.0</td>\n",
       "      <td>296972.0</td>\n",
       "      <td>66.2</td>\n",
       "      <td>59.8</td>\n",
       "      <td>52.5</td>\n",
       "      <td>43.3</td>\n",
       "    </tr>\n",
       "    <tr>\n",
       "      <th>3</th>\n",
       "      <td>2022-12-07</td>\n",
       "      <td>UT</td>\n",
       "      <td>Sex_Female</td>\n",
       "      <td>1591041.0</td>\n",
       "      <td>1208999.0</td>\n",
       "      <td>1081849.0</td>\n",
       "      <td>556474.0</td>\n",
       "      <td>135224.0</td>\n",
       "      <td>76.0</td>\n",
       "      <td>68.0</td>\n",
       "      <td>51.6</td>\n",
       "      <td>49.9</td>\n",
       "    </tr>\n",
       "    <tr>\n",
       "      <th>4</th>\n",
       "      <td>2022-12-07</td>\n",
       "      <td>RI</td>\n",
       "      <td>Female_Ages_65+_yrs</td>\n",
       "      <td>105649.0</td>\n",
       "      <td>127869.0</td>\n",
       "      <td>109840.0</td>\n",
       "      <td>89614.0</td>\n",
       "      <td>55490.0</td>\n",
       "      <td>95.0</td>\n",
       "      <td>95.0</td>\n",
       "      <td>81.6</td>\n",
       "      <td>61.9</td>\n",
       "    </tr>\n",
       "    <tr>\n",
       "      <th>...</th>\n",
       "      <td>...</td>\n",
       "      <td>...</td>\n",
       "      <td>...</td>\n",
       "      <td>...</td>\n",
       "      <td>...</td>\n",
       "      <td>...</td>\n",
       "      <td>...</td>\n",
       "      <td>...</td>\n",
       "      <td>...</td>\n",
       "      <td>...</td>\n",
       "      <td>...</td>\n",
       "      <td>...</td>\n",
       "    </tr>\n",
       "    <tr>\n",
       "      <th>1870495</th>\n",
       "      <td>2020-12-13</td>\n",
       "      <td>VA</td>\n",
       "      <td>Female_Ages_&lt;2yrs</td>\n",
       "      <td>96647.0</td>\n",
       "      <td>NaN</td>\n",
       "      <td>NaN</td>\n",
       "      <td>NaN</td>\n",
       "      <td>NaN</td>\n",
       "      <td>NaN</td>\n",
       "      <td>NaN</td>\n",
       "      <td>NaN</td>\n",
       "      <td>NaN</td>\n",
       "    </tr>\n",
       "    <tr>\n",
       "      <th>1870496</th>\n",
       "      <td>2020-12-13</td>\n",
       "      <td>OK</td>\n",
       "      <td>Male_Ages_&lt;2yrs</td>\n",
       "      <td>50289.0</td>\n",
       "      <td>NaN</td>\n",
       "      <td>NaN</td>\n",
       "      <td>NaN</td>\n",
       "      <td>NaN</td>\n",
       "      <td>NaN</td>\n",
       "      <td>NaN</td>\n",
       "      <td>NaN</td>\n",
       "      <td>NaN</td>\n",
       "    </tr>\n",
       "    <tr>\n",
       "      <th>1870497</th>\n",
       "      <td>2020-12-13</td>\n",
       "      <td>IL</td>\n",
       "      <td>Male_Ages_&lt;2yrs</td>\n",
       "      <td>147954.0</td>\n",
       "      <td>NaN</td>\n",
       "      <td>NaN</td>\n",
       "      <td>NaN</td>\n",
       "      <td>NaN</td>\n",
       "      <td>NaN</td>\n",
       "      <td>NaN</td>\n",
       "      <td>NaN</td>\n",
       "      <td>NaN</td>\n",
       "    </tr>\n",
       "    <tr>\n",
       "      <th>1870498</th>\n",
       "      <td>2020-12-13</td>\n",
       "      <td>ME</td>\n",
       "      <td>Male_Ages_65-74_yrs</td>\n",
       "      <td>80965.0</td>\n",
       "      <td>35.0</td>\n",
       "      <td>11.0</td>\n",
       "      <td>NaN</td>\n",
       "      <td>NaN</td>\n",
       "      <td>0.0</td>\n",
       "      <td>0.0</td>\n",
       "      <td>NaN</td>\n",
       "      <td>NaN</td>\n",
       "    </tr>\n",
       "    <tr>\n",
       "      <th>1870499</th>\n",
       "      <td>2020-12-13</td>\n",
       "      <td>MP</td>\n",
       "      <td>Male_Ages_65-74_yrs</td>\n",
       "      <td>1641.0</td>\n",
       "      <td>NaN</td>\n",
       "      <td>NaN</td>\n",
       "      <td>NaN</td>\n",
       "      <td>NaN</td>\n",
       "      <td>NaN</td>\n",
       "      <td>NaN</td>\n",
       "      <td>NaN</td>\n",
       "      <td>NaN</td>\n",
       "    </tr>\n",
       "  </tbody>\n",
       "</table>\n",
       "<p>1870500 rows × 12 columns</p>\n",
       "</div>"
      ],
      "text/plain": [
       "              Date Location   Demographic_Category     census  \\\n",
       "0       2022-12-07       SD  Female_Ages_25-39_yrs    82026.0   \n",
       "1       2022-12-07       WI  Female_Ages_25-39_yrs   545614.0   \n",
       "2       2022-12-07       IN             Sex_Female  3411859.0   \n",
       "3       2022-12-07       UT             Sex_Female  1591041.0   \n",
       "4       2022-12-07       RI    Female_Ages_65+_yrs   105649.0   \n",
       "...            ...      ...                    ...        ...   \n",
       "1870495 2020-12-13       VA      Female_Ages_<2yrs    96647.0   \n",
       "1870496 2020-12-13       OK        Male_Ages_<2yrs    50289.0   \n",
       "1870497 2020-12-13       IL        Male_Ages_<2yrs   147954.0   \n",
       "1870498 2020-12-13       ME    Male_Ages_65-74_yrs    80965.0   \n",
       "1870499 2020-12-13       MP    Male_Ages_65-74_yrs     1641.0   \n",
       "\n",
       "         Administered_Dose1  Series_Complete_Yes  Booster_Doses  \\\n",
       "0                   70565.0              54893.0        19864.0   \n",
       "1                  425661.0             380299.0       194014.0   \n",
       "2                 2257339.0            2040656.0      1069660.0   \n",
       "3                 1208999.0            1081849.0       556474.0   \n",
       "4                  127869.0             109840.0        89614.0   \n",
       "...                     ...                  ...            ...   \n",
       "1870495                 NaN                  NaN            NaN   \n",
       "1870496                 NaN                  NaN            NaN   \n",
       "1870497                 NaN                  NaN            NaN   \n",
       "1870498                35.0                 11.0            NaN   \n",
       "1870499                 NaN                  NaN            NaN   \n",
       "\n",
       "         Second_Booster  Administered_Dose1_pct_agegroup  \\\n",
       "0                   NaN                             86.0   \n",
       "1                   NaN                             78.0   \n",
       "2              296972.0                             66.2   \n",
       "3              135224.0                             76.0   \n",
       "4               55490.0                             95.0   \n",
       "...                 ...                              ...   \n",
       "1870495             NaN                              NaN   \n",
       "1870496             NaN                              NaN   \n",
       "1870497             NaN                              NaN   \n",
       "1870498             NaN                              0.0   \n",
       "1870499             NaN                              NaN   \n",
       "\n",
       "         Series_Complete_Pop_pct_agegroup  Booster_Doses_Vax_pct_agegroup  \\\n",
       "0                                    66.9                            36.2   \n",
       "1                                    69.7                            51.0   \n",
       "2                                    59.8                            52.5   \n",
       "3                                    68.0                            51.6   \n",
       "4                                    95.0                            81.6   \n",
       "...                                   ...                             ...   \n",
       "1870495                               NaN                             NaN   \n",
       "1870496                               NaN                             NaN   \n",
       "1870497                               NaN                             NaN   \n",
       "1870498                               0.0                             NaN   \n",
       "1870499                               NaN                             NaN   \n",
       "\n",
       "         Second_Booster_Vax_pct_agegroup  \n",
       "0                                    NaN  \n",
       "1                                    NaN  \n",
       "2                                   43.3  \n",
       "3                                   49.9  \n",
       "4                                   61.9  \n",
       "...                                  ...  \n",
       "1870495                              NaN  \n",
       "1870496                              NaN  \n",
       "1870497                              NaN  \n",
       "1870498                              NaN  \n",
       "1870499                              NaN  \n",
       "\n",
       "[1870500 rows x 12 columns]"
      ]
     },
     "execution_count": 32,
     "metadata": {},
     "output_type": "execute_result"
    }
   ],
   "source": [
    "df"
   ]
  },
  {
   "cell_type": "code",
   "execution_count": null,
   "id": "f4dc5598-cf93-4460-bf13-d7d20b83a211",
   "metadata": {},
   "outputs": [],
   "source": []
  }
 ],
 "metadata": {
  "kernelspec": {
   "display_name": "Python 3 (ipykernel)",
   "language": "python",
   "name": "python3"
  },
  "language_info": {
   "codemirror_mode": {
    "name": "ipython",
    "version": 3
   },
   "file_extension": ".py",
   "mimetype": "text/x-python",
   "name": "python",
   "nbconvert_exporter": "python",
   "pygments_lexer": "ipython3",
   "version": "3.9.12"
  }
 },
 "nbformat": 4,
 "nbformat_minor": 5
}
